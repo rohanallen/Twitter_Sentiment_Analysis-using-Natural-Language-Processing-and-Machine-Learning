{
 "cells": [
  {
   "cell_type": "markdown",
   "metadata": {},
   "source": [
    "# Rohan Allen\n",
    "# Twitter Sentiment Analysis"
   ]
  },
  {
   "cell_type": "markdown",
   "metadata": {},
   "source": [
    "# importing the pandas library to hold and manupulate the dataset, numpy library to perform numerical operations, seaborn and matplotlib to visualize the data"
   ]
  },
  {
   "cell_type": "code",
   "execution_count": 1,
   "metadata": {},
   "outputs": [],
   "source": [
    "import pandas as pd\n",
    "import numpy as np\n",
    "import seaborn as sns\n",
    "import matplotlib.pyplot as plt"
   ]
  },
  {
   "cell_type": "markdown",
   "metadata": {},
   "source": [
    "# reading the tweets dataset from the specified location"
   ]
  },
  {
   "cell_type": "code",
   "execution_count": 7,
   "metadata": {},
   "outputs": [],
   "source": [
    "data=pd.read_csv(\"C:/Users/Rohan/Desktop/Python Programs/NLP_Twitter_Sentiment_Analysis-main/twitter.csv\")"
   ]
  },
  {
   "cell_type": "markdown",
   "metadata": {},
   "source": [
    "# viewing the dataset"
   ]
  },
  {
   "cell_type": "code",
   "execution_count": 8,
   "metadata": {},
   "outputs": [
    {
     "data": {
      "text/html": [
       "<div>\n",
       "<style scoped>\n",
       "    .dataframe tbody tr th:only-of-type {\n",
       "        vertical-align: middle;\n",
       "    }\n",
       "\n",
       "    .dataframe tbody tr th {\n",
       "        vertical-align: top;\n",
       "    }\n",
       "\n",
       "    .dataframe thead th {\n",
       "        text-align: right;\n",
       "    }\n",
       "</style>\n",
       "<table border=\"1\" class=\"dataframe\">\n",
       "  <thead>\n",
       "    <tr style=\"text-align: right;\">\n",
       "      <th></th>\n",
       "      <th>id</th>\n",
       "      <th>label</th>\n",
       "      <th>tweet</th>\n",
       "    </tr>\n",
       "  </thead>\n",
       "  <tbody>\n",
       "    <tr>\n",
       "      <th>0</th>\n",
       "      <td>1</td>\n",
       "      <td>0</td>\n",
       "      <td>@user when a father is dysfunctional and is s...</td>\n",
       "    </tr>\n",
       "    <tr>\n",
       "      <th>1</th>\n",
       "      <td>2</td>\n",
       "      <td>0</td>\n",
       "      <td>@user @user thanks for #lyft credit i can't us...</td>\n",
       "    </tr>\n",
       "    <tr>\n",
       "      <th>2</th>\n",
       "      <td>3</td>\n",
       "      <td>0</td>\n",
       "      <td>bihday your majesty</td>\n",
       "    </tr>\n",
       "    <tr>\n",
       "      <th>3</th>\n",
       "      <td>4</td>\n",
       "      <td>0</td>\n",
       "      <td>#model   i love u take with u all the time in ...</td>\n",
       "    </tr>\n",
       "    <tr>\n",
       "      <th>4</th>\n",
       "      <td>5</td>\n",
       "      <td>0</td>\n",
       "      <td>factsguide: society now    #motivation</td>\n",
       "    </tr>\n",
       "    <tr>\n",
       "      <th>...</th>\n",
       "      <td>...</td>\n",
       "      <td>...</td>\n",
       "      <td>...</td>\n",
       "    </tr>\n",
       "    <tr>\n",
       "      <th>31957</th>\n",
       "      <td>31958</td>\n",
       "      <td>0</td>\n",
       "      <td>ate @user isz that youuu?ðððððð...</td>\n",
       "    </tr>\n",
       "    <tr>\n",
       "      <th>31958</th>\n",
       "      <td>31959</td>\n",
       "      <td>0</td>\n",
       "      <td>to see nina turner on the airwaves trying to...</td>\n",
       "    </tr>\n",
       "    <tr>\n",
       "      <th>31959</th>\n",
       "      <td>31960</td>\n",
       "      <td>0</td>\n",
       "      <td>listening to sad songs on a monday morning otw...</td>\n",
       "    </tr>\n",
       "    <tr>\n",
       "      <th>31960</th>\n",
       "      <td>31961</td>\n",
       "      <td>1</td>\n",
       "      <td>@user #sikh #temple vandalised in in #calgary,...</td>\n",
       "    </tr>\n",
       "    <tr>\n",
       "      <th>31961</th>\n",
       "      <td>31962</td>\n",
       "      <td>0</td>\n",
       "      <td>thank you @user for you follow</td>\n",
       "    </tr>\n",
       "  </tbody>\n",
       "</table>\n",
       "<p>31962 rows × 3 columns</p>\n",
       "</div>"
      ],
      "text/plain": [
       "          id  label                                              tweet\n",
       "0          1      0   @user when a father is dysfunctional and is s...\n",
       "1          2      0  @user @user thanks for #lyft credit i can't us...\n",
       "2          3      0                                bihday your majesty\n",
       "3          4      0  #model   i love u take with u all the time in ...\n",
       "4          5      0             factsguide: society now    #motivation\n",
       "...      ...    ...                                                ...\n",
       "31957  31958      0  ate @user isz that youuu?ðððððð...\n",
       "31958  31959      0    to see nina turner on the airwaves trying to...\n",
       "31959  31960      0  listening to sad songs on a monday morning otw...\n",
       "31960  31961      1  @user #sikh #temple vandalised in in #calgary,...\n",
       "31961  31962      0                   thank you @user for you follow  \n",
       "\n",
       "[31962 rows x 3 columns]"
      ]
     },
     "execution_count": 8,
     "metadata": {},
     "output_type": "execute_result"
    }
   ],
   "source": [
    "data"
   ]
  },
  {
   "cell_type": "markdown",
   "metadata": {},
   "source": [
    "# viewing basic info abt datasets like columns,number of non-null entries and data types of cols"
   ]
  },
  {
   "cell_type": "code",
   "execution_count": 11,
   "metadata": {},
   "outputs": [
    {
     "name": "stdout",
     "output_type": "stream",
     "text": [
      "<class 'pandas.core.frame.DataFrame'>\n",
      "RangeIndex: 31962 entries, 0 to 31961\n",
      "Data columns (total 3 columns):\n",
      " #   Column  Non-Null Count  Dtype \n",
      "---  ------  --------------  ----- \n",
      " 0   id      31962 non-null  int64 \n",
      " 1   label   31962 non-null  int64 \n",
      " 2   tweet   31962 non-null  object\n",
      "dtypes: int64(2), object(1)\n",
      "memory usage: 749.2+ KB\n"
     ]
    }
   ],
   "source": [
    "data.info()"
   ]
  },
  {
   "cell_type": "code",
   "execution_count": 12,
   "metadata": {},
   "outputs": [
    {
     "data": {
      "text/html": [
       "<div>\n",
       "<style scoped>\n",
       "    .dataframe tbody tr th:only-of-type {\n",
       "        vertical-align: middle;\n",
       "    }\n",
       "\n",
       "    .dataframe tbody tr th {\n",
       "        vertical-align: top;\n",
       "    }\n",
       "\n",
       "    .dataframe thead th {\n",
       "        text-align: right;\n",
       "    }\n",
       "</style>\n",
       "<table border=\"1\" class=\"dataframe\">\n",
       "  <thead>\n",
       "    <tr style=\"text-align: right;\">\n",
       "      <th></th>\n",
       "      <th>id</th>\n",
       "      <th>label</th>\n",
       "    </tr>\n",
       "  </thead>\n",
       "  <tbody>\n",
       "    <tr>\n",
       "      <th>count</th>\n",
       "      <td>31962.000000</td>\n",
       "      <td>31962.000000</td>\n",
       "    </tr>\n",
       "    <tr>\n",
       "      <th>mean</th>\n",
       "      <td>15981.500000</td>\n",
       "      <td>0.070146</td>\n",
       "    </tr>\n",
       "    <tr>\n",
       "      <th>std</th>\n",
       "      <td>9226.778988</td>\n",
       "      <td>0.255397</td>\n",
       "    </tr>\n",
       "    <tr>\n",
       "      <th>min</th>\n",
       "      <td>1.000000</td>\n",
       "      <td>0.000000</td>\n",
       "    </tr>\n",
       "    <tr>\n",
       "      <th>25%</th>\n",
       "      <td>7991.250000</td>\n",
       "      <td>0.000000</td>\n",
       "    </tr>\n",
       "    <tr>\n",
       "      <th>50%</th>\n",
       "      <td>15981.500000</td>\n",
       "      <td>0.000000</td>\n",
       "    </tr>\n",
       "    <tr>\n",
       "      <th>75%</th>\n",
       "      <td>23971.750000</td>\n",
       "      <td>0.000000</td>\n",
       "    </tr>\n",
       "    <tr>\n",
       "      <th>max</th>\n",
       "      <td>31962.000000</td>\n",
       "      <td>1.000000</td>\n",
       "    </tr>\n",
       "  </tbody>\n",
       "</table>\n",
       "</div>"
      ],
      "text/plain": [
       "                 id         label\n",
       "count  31962.000000  31962.000000\n",
       "mean   15981.500000      0.070146\n",
       "std     9226.778988      0.255397\n",
       "min        1.000000      0.000000\n",
       "25%     7991.250000      0.000000\n",
       "50%    15981.500000      0.000000\n",
       "75%    23971.750000      0.000000\n",
       "max    31962.000000      1.000000"
      ]
     },
     "execution_count": 12,
     "metadata": {},
     "output_type": "execute_result"
    }
   ],
   "source": [
    "data.describe()"
   ]
  },
  {
   "cell_type": "markdown",
   "metadata": {},
   "source": [
    "# viewing only the tweets from the dataset by specyfying the tweet col"
   ]
  },
  {
   "cell_type": "code",
   "execution_count": 13,
   "metadata": {},
   "outputs": [
    {
     "data": {
      "text/plain": [
       "0         @user when a father is dysfunctional and is s...\n",
       "1        @user @user thanks for #lyft credit i can't us...\n",
       "2                                      bihday your majesty\n",
       "3        #model   i love u take with u all the time in ...\n",
       "4                   factsguide: society now    #motivation\n",
       "                               ...                        \n",
       "31957    ate @user isz that youuu?ðððððð...\n",
       "31958      to see nina turner on the airwaves trying to...\n",
       "31959    listening to sad songs on a monday morning otw...\n",
       "31960    @user #sikh #temple vandalised in in #calgary,...\n",
       "31961                     thank you @user for you follow  \n",
       "Name: tweet, Length: 31962, dtype: object"
      ]
     },
     "execution_count": 13,
     "metadata": {},
     "output_type": "execute_result"
    }
   ],
   "source": [
    "data['tweet']"
   ]
  },
  {
   "cell_type": "markdown",
   "metadata": {},
   "source": [
    "#  Dropping the id col as it is not req. keeping only the label col, 0 indicates positive, 1 indicates negative and the tweet itself"
   ]
  },
  {
   "cell_type": "code",
   "execution_count": 15,
   "metadata": {},
   "outputs": [],
   "source": [
    "# axis=1 to indicate dropping the whole column\n",
    "data=data.drop(['id'], axis=1)"
   ]
  },
  {
   "cell_type": "code",
   "execution_count": 17,
   "metadata": {},
   "outputs": [
    {
     "data": {
      "text/html": [
       "<div>\n",
       "<style scoped>\n",
       "    .dataframe tbody tr th:only-of-type {\n",
       "        vertical-align: middle;\n",
       "    }\n",
       "\n",
       "    .dataframe tbody tr th {\n",
       "        vertical-align: top;\n",
       "    }\n",
       "\n",
       "    .dataframe thead th {\n",
       "        text-align: right;\n",
       "    }\n",
       "</style>\n",
       "<table border=\"1\" class=\"dataframe\">\n",
       "  <thead>\n",
       "    <tr style=\"text-align: right;\">\n",
       "      <th></th>\n",
       "      <th>label</th>\n",
       "      <th>tweet</th>\n",
       "    </tr>\n",
       "  </thead>\n",
       "  <tbody>\n",
       "    <tr>\n",
       "      <th>0</th>\n",
       "      <td>0</td>\n",
       "      <td>@user when a father is dysfunctional and is s...</td>\n",
       "    </tr>\n",
       "    <tr>\n",
       "      <th>1</th>\n",
       "      <td>0</td>\n",
       "      <td>@user @user thanks for #lyft credit i can't us...</td>\n",
       "    </tr>\n",
       "    <tr>\n",
       "      <th>2</th>\n",
       "      <td>0</td>\n",
       "      <td>bihday your majesty</td>\n",
       "    </tr>\n",
       "    <tr>\n",
       "      <th>3</th>\n",
       "      <td>0</td>\n",
       "      <td>#model   i love u take with u all the time in ...</td>\n",
       "    </tr>\n",
       "    <tr>\n",
       "      <th>4</th>\n",
       "      <td>0</td>\n",
       "      <td>factsguide: society now    #motivation</td>\n",
       "    </tr>\n",
       "  </tbody>\n",
       "</table>\n",
       "</div>"
      ],
      "text/plain": [
       "   label                                              tweet\n",
       "0      0   @user when a father is dysfunctional and is s...\n",
       "1      0  @user @user thanks for #lyft credit i can't us...\n",
       "2      0                                bihday your majesty\n",
       "3      0  #model   i love u take with u all the time in ...\n",
       "4      0             factsguide: society now    #motivation"
      ]
     },
     "execution_count": 17,
     "metadata": {},
     "output_type": "execute_result"
    }
   ],
   "source": [
    "# to verify\n",
    "data.head()"
   ]
  },
  {
   "cell_type": "markdown",
   "metadata": {},
   "source": [
    "# Lets visualize the dataset for a better understanding"
   ]
  },
  {
   "cell_type": "code",
   "execution_count": 30,
   "metadata": {},
   "outputs": [
    {
     "data": {
      "text/plain": [
       "<matplotlib.axes._subplots.AxesSubplot at 0x2223d6bd2c8>"
      ]
     },
     "execution_count": 30,
     "metadata": {},
     "output_type": "execute_result"
    },
    {
     "data": {
      "image/png": "[encoded data removed]",
      "text/plain": [
       "<Figure size 432x288 with 2 Axes>"
      ]
     },
     "metadata": {
      "needs_background": "light"
     },
     "output_type": "display_data"
    }
   ],
   "source": [
    "# plotting a heatmap using seaborn to see if any null values present\n",
    "sns.heatmap(data.isnull())\n",
    "# no null values as colour is constant with no color break"
   ]
  },
  {
   "cell_type": "code",
   "execution_count": 26,
   "metadata": {},
   "outputs": [
    {
     "data": {
      "text/plain": [
       "array([[<matplotlib.axes._subplots.AxesSubplot object at 0x000002223C28D088>]],\n",
       "      dtype=object)"
      ]
     },
     "execution_count": 26,
     "metadata": {},
     "output_type": "execute_result"
    },
    {
     "data": {
      "image/png": "[encoded data removed]",
      "text/plain": [
       "<Figure size 936x360 with 1 Axes>"
      ]
     },
     "metadata": {
      "needs_background": "light"
     },
     "output_type": "display_data"
    }
   ],
   "source": [
    "# plotting a histogram to see how many tweets are positive or negative\n",
    "data.hist(bins = 30, figsize = (13,5), color = 'r')\n",
    "# as we can see majority of the tweets are positive"
   ]
  },
  {
   "cell_type": "code",
   "execution_count": 28,
   "metadata": {},
   "outputs": [
    {
     "data": {
      "text/plain": [
       "<matplotlib.axes._subplots.AxesSubplot at 0x2223d448488>"
      ]
     },
     "execution_count": 28,
     "metadata": {},
     "output_type": "execute_result"
    },
    {
     "data": {
      "image/png": "[encoded data removed]",
      "text/plain": [
       "<Figure size 432x288 with 1 Axes>"
      ]
     },
     "metadata": {
      "needs_background": "light"
     },
     "output_type": "display_data"
    }
   ],
   "source": [
    "# using a countplot see how many tweets are positive or negative\n",
    "sns.countplot(data['label'])"
   ]
  },
  {
   "cell_type": "code",
   "execution_count": 32,
   "metadata": {},
   "outputs": [
    {
     "data": {
      "text/plain": [
       "Text(0.5, 1.0, 'Tweet label and their frequency ')"
      ]
     },
     "execution_count": 32,
     "metadata": {},
     "output_type": "execute_result"
    },
    {
     "data": {
      "image/png": "[encoded data removed]",
      "text/plain": [
       "<Figure size 720x360 with 1 Axes>"
      ]
     },
     "metadata": {
      "needs_background": "light"
     },
     "output_type": "display_data"
    }
   ],
   "source": [
    "# plotting a bar graph to see how many tweets are positive or negative\n",
    "data['label'].value_counts().plot(kind='bar',color='green',figsize=(10,5))\n",
    "plt.xlabel('Label')\n",
    "plt.ylabel('Frequency')\n",
    "plt.title('Tweet label and their frequency ')"
   ]
  },
  {
   "cell_type": "markdown",
   "metadata": {},
   "source": [
    "# add new col to dataset to get length of each tweet"
   ]
  },
  {
   "cell_type": "code",
   "execution_count": 33,
   "metadata": {},
   "outputs": [
    {
     "data": {
      "text/html": [
       "<div>\n",
       "<style scoped>\n",
       "    .dataframe tbody tr th:only-of-type {\n",
       "        vertical-align: middle;\n",
       "    }\n",
       "\n",
       "    .dataframe tbody tr th {\n",
       "        vertical-align: top;\n",
       "    }\n",
       "\n",
       "    .dataframe thead th {\n",
       "        text-align: right;\n",
       "    }\n",
       "</style>\n",
       "<table border=\"1\" class=\"dataframe\">\n",
       "  <thead>\n",
       "    <tr style=\"text-align: right;\">\n",
       "      <th></th>\n",
       "      <th>label</th>\n",
       "      <th>tweet</th>\n",
       "      <th>length</th>\n",
       "    </tr>\n",
       "  </thead>\n",
       "  <tbody>\n",
       "    <tr>\n",
       "      <th>0</th>\n",
       "      <td>0</td>\n",
       "      <td>@user when a father is dysfunctional and is s...</td>\n",
       "      <td>102</td>\n",
       "    </tr>\n",
       "    <tr>\n",
       "      <th>1</th>\n",
       "      <td>0</td>\n",
       "      <td>@user @user thanks for #lyft credit i can't us...</td>\n",
       "      <td>122</td>\n",
       "    </tr>\n",
       "    <tr>\n",
       "      <th>2</th>\n",
       "      <td>0</td>\n",
       "      <td>bihday your majesty</td>\n",
       "      <td>21</td>\n",
       "    </tr>\n",
       "    <tr>\n",
       "      <th>3</th>\n",
       "      <td>0</td>\n",
       "      <td>#model   i love u take with u all the time in ...</td>\n",
       "      <td>86</td>\n",
       "    </tr>\n",
       "    <tr>\n",
       "      <th>4</th>\n",
       "      <td>0</td>\n",
       "      <td>factsguide: society now    #motivation</td>\n",
       "      <td>39</td>\n",
       "    </tr>\n",
       "  </tbody>\n",
       "</table>\n",
       "</div>"
      ],
      "text/plain": [
       "   label                                              tweet  length\n",
       "0      0   @user when a father is dysfunctional and is s...     102\n",
       "1      0  @user @user thanks for #lyft credit i can't us...     122\n",
       "2      0                                bihday your majesty      21\n",
       "3      0  #model   i love u take with u all the time in ...      86\n",
       "4      0             factsguide: society now    #motivation      39"
      ]
     },
     "execution_count": 33,
     "metadata": {},
     "output_type": "execute_result"
    }
   ],
   "source": [
    "data['length']=data['tweet'].apply(len)\n",
    "data.head()"
   ]
  },
  {
   "cell_type": "markdown",
   "metadata": {},
   "source": [
    "# Plot graph of tweet length"
   ]
  },
  {
   "cell_type": "code",
   "execution_count": 39,
   "metadata": {},
   "outputs": [
    {
     "data": {
      "text/plain": [
       "Text(0.5, 1.0, 'Tweet length and their frequency ')"
      ]
     },
     "execution_count": 39,
     "metadata": {},
     "output_type": "execute_result"
    },
    {
     "data": {
      "image/png": "[encoded data removed]",
      "text/plain": [
       "<Figure size 432x288 with 1 Axes>"
      ]
     },
     "metadata": {
      "needs_background": "light"
     },
     "output_type": "display_data"
    }
   ],
   "source": [
    "data['length'].plot(kind='hist',bins=100)\n",
    "plt.xlabel('Tweet Length')\n",
    "plt.ylabel('Frequency')\n",
    "plt.title('Tweet length and their frequency ')\n",
    "# on avg most tweets are bw 80 and 100"
   ]
  },
  {
   "cell_type": "markdown",
   "metadata": {},
   "source": [
    "# view mathematical stats on the length of each tweet"
   ]
  },
  {
   "cell_type": "code",
   "execution_count": 42,
   "metadata": {},
   "outputs": [
    {
     "data": {
      "text/plain": [
       "count    31962.000000\n",
       "mean        84.739628\n",
       "std         29.455749\n",
       "min         11.000000\n",
       "25%         63.000000\n",
       "50%         88.000000\n",
       "75%        108.000000\n",
       "max        274.000000\n",
       "Name: length, dtype: float64"
      ]
     },
     "execution_count": 42,
     "metadata": {},
     "output_type": "execute_result"
    }
   ],
   "source": [
    "data['length'].describe()"
   ]
  },
  {
   "cell_type": "code",
   "execution_count": 44,
   "metadata": {},
   "outputs": [
    {
     "data": {
      "text/html": [
       "<div>\n",
       "<style scoped>\n",
       "    .dataframe tbody tr th:only-of-type {\n",
       "        vertical-align: middle;\n",
       "    }\n",
       "\n",
       "    .dataframe tbody tr th {\n",
       "        vertical-align: top;\n",
       "    }\n",
       "\n",
       "    .dataframe thead th {\n",
       "        text-align: right;\n",
       "    }\n",
       "</style>\n",
       "<table border=\"1\" class=\"dataframe\">\n",
       "  <thead>\n",
       "    <tr style=\"text-align: right;\">\n",
       "      <th></th>\n",
       "      <th>label</th>\n",
       "      <th>tweet</th>\n",
       "      <th>length</th>\n",
       "    </tr>\n",
       "  </thead>\n",
       "  <tbody>\n",
       "    <tr>\n",
       "      <th>25195</th>\n",
       "      <td>0</td>\n",
       "      <td>i love you</td>\n",
       "      <td>11</td>\n",
       "    </tr>\n",
       "  </tbody>\n",
       "</table>\n",
       "</div>"
      ],
      "text/plain": [
       "       label        tweet  length\n",
       "25195      0  i love you       11"
      ]
     },
     "execution_count": 44,
     "metadata": {},
     "output_type": "execute_result"
    }
   ],
   "source": [
    "# viewing shortest tweet\n",
    "data[data['length']==11]"
   ]
  },
  {
   "cell_type": "markdown",
   "metadata": {},
   "source": [
    "# divide all th +ve and -ve tweets into 2 seperate dataframes"
   ]
  },
  {
   "cell_type": "code",
   "execution_count": 46,
   "metadata": {},
   "outputs": [],
   "source": [
    "positive=data[data['label']==0]"
   ]
  },
  {
   "cell_type": "code",
   "execution_count": 47,
   "metadata": {},
   "outputs": [],
   "source": [
    "negative=data[data['label']==1]"
   ]
  },
  {
   "cell_type": "code",
   "execution_count": 48,
   "metadata": {},
   "outputs": [
    {
     "data": {
      "text/html": [
       "<div>\n",
       "<style scoped>\n",
       "    .dataframe tbody tr th:only-of-type {\n",
       "        vertical-align: middle;\n",
       "    }\n",
       "\n",
       "    .dataframe tbody tr th {\n",
       "        vertical-align: top;\n",
       "    }\n",
       "\n",
       "    .dataframe thead th {\n",
       "        text-align: right;\n",
       "    }\n",
       "</style>\n",
       "<table border=\"1\" class=\"dataframe\">\n",
       "  <thead>\n",
       "    <tr style=\"text-align: right;\">\n",
       "      <th></th>\n",
       "      <th>label</th>\n",
       "      <th>tweet</th>\n",
       "      <th>length</th>\n",
       "    </tr>\n",
       "  </thead>\n",
       "  <tbody>\n",
       "    <tr>\n",
       "      <th>0</th>\n",
       "      <td>0</td>\n",
       "      <td>@user when a father is dysfunctional and is s...</td>\n",
       "      <td>102</td>\n",
       "    </tr>\n",
       "    <tr>\n",
       "      <th>1</th>\n",
       "      <td>0</td>\n",
       "      <td>@user @user thanks for #lyft credit i can't us...</td>\n",
       "      <td>122</td>\n",
       "    </tr>\n",
       "    <tr>\n",
       "      <th>2</th>\n",
       "      <td>0</td>\n",
       "      <td>bihday your majesty</td>\n",
       "      <td>21</td>\n",
       "    </tr>\n",
       "    <tr>\n",
       "      <th>3</th>\n",
       "      <td>0</td>\n",
       "      <td>#model   i love u take with u all the time in ...</td>\n",
       "      <td>86</td>\n",
       "    </tr>\n",
       "    <tr>\n",
       "      <th>4</th>\n",
       "      <td>0</td>\n",
       "      <td>factsguide: society now    #motivation</td>\n",
       "      <td>39</td>\n",
       "    </tr>\n",
       "    <tr>\n",
       "      <th>...</th>\n",
       "      <td>...</td>\n",
       "      <td>...</td>\n",
       "      <td>...</td>\n",
       "    </tr>\n",
       "    <tr>\n",
       "      <th>31956</th>\n",
       "      <td>0</td>\n",
       "      <td>off fishing tomorrow @user carnt wait first ti...</td>\n",
       "      <td>61</td>\n",
       "    </tr>\n",
       "    <tr>\n",
       "      <th>31957</th>\n",
       "      <td>0</td>\n",
       "      <td>ate @user isz that youuu?ðððððð...</td>\n",
       "      <td>68</td>\n",
       "    </tr>\n",
       "    <tr>\n",
       "      <th>31958</th>\n",
       "      <td>0</td>\n",
       "      <td>to see nina turner on the airwaves trying to...</td>\n",
       "      <td>131</td>\n",
       "    </tr>\n",
       "    <tr>\n",
       "      <th>31959</th>\n",
       "      <td>0</td>\n",
       "      <td>listening to sad songs on a monday morning otw...</td>\n",
       "      <td>63</td>\n",
       "    </tr>\n",
       "    <tr>\n",
       "      <th>31961</th>\n",
       "      <td>0</td>\n",
       "      <td>thank you @user for you follow</td>\n",
       "      <td>32</td>\n",
       "    </tr>\n",
       "  </tbody>\n",
       "</table>\n",
       "<p>29720 rows × 3 columns</p>\n",
       "</div>"
      ],
      "text/plain": [
       "       label                                              tweet  length\n",
       "0          0   @user when a father is dysfunctional and is s...     102\n",
       "1          0  @user @user thanks for #lyft credit i can't us...     122\n",
       "2          0                                bihday your majesty      21\n",
       "3          0  #model   i love u take with u all the time in ...      86\n",
       "4          0             factsguide: society now    #motivation      39\n",
       "...      ...                                                ...     ...\n",
       "31956      0  off fishing tomorrow @user carnt wait first ti...      61\n",
       "31957      0  ate @user isz that youuu?ðððððð...      68\n",
       "31958      0    to see nina turner on the airwaves trying to...     131\n",
       "31959      0  listening to sad songs on a monday morning otw...      63\n",
       "31961      0                   thank you @user for you follow        32\n",
       "\n",
       "[29720 rows x 3 columns]"
      ]
     },
     "execution_count": 48,
     "metadata": {},
     "output_type": "execute_result"
    }
   ],
   "source": [
    "# to view\n",
    "positive"
   ]
  },
  {
   "cell_type": "code",
   "execution_count": 49,
   "metadata": {},
   "outputs": [
    {
     "data": {
      "text/html": [
       "<div>\n",
       "<style scoped>\n",
       "    .dataframe tbody tr th:only-of-type {\n",
       "        vertical-align: middle;\n",
       "    }\n",
       "\n",
       "    .dataframe tbody tr th {\n",
       "        vertical-align: top;\n",
       "    }\n",
       "\n",
       "    .dataframe thead th {\n",
       "        text-align: right;\n",
       "    }\n",
       "</style>\n",
       "<table border=\"1\" class=\"dataframe\">\n",
       "  <thead>\n",
       "    <tr style=\"text-align: right;\">\n",
       "      <th></th>\n",
       "      <th>label</th>\n",
       "      <th>tweet</th>\n",
       "      <th>length</th>\n",
       "    </tr>\n",
       "  </thead>\n",
       "  <tbody>\n",
       "    <tr>\n",
       "      <th>13</th>\n",
       "      <td>1</td>\n",
       "      <td>@user #cnn calls #michigan middle school 'buil...</td>\n",
       "      <td>74</td>\n",
       "    </tr>\n",
       "    <tr>\n",
       "      <th>14</th>\n",
       "      <td>1</td>\n",
       "      <td>no comment!  in #australia   #opkillingbay #se...</td>\n",
       "      <td>101</td>\n",
       "    </tr>\n",
       "    <tr>\n",
       "      <th>17</th>\n",
       "      <td>1</td>\n",
       "      <td>retweet if you agree!</td>\n",
       "      <td>22</td>\n",
       "    </tr>\n",
       "    <tr>\n",
       "      <th>23</th>\n",
       "      <td>1</td>\n",
       "      <td>@user @user lumpy says i am a . prove it lumpy.</td>\n",
       "      <td>47</td>\n",
       "    </tr>\n",
       "    <tr>\n",
       "      <th>34</th>\n",
       "      <td>1</td>\n",
       "      <td>it's unbelievable that in the 21st century we'...</td>\n",
       "      <td>104</td>\n",
       "    </tr>\n",
       "    <tr>\n",
       "      <th>...</th>\n",
       "      <td>...</td>\n",
       "      <td>...</td>\n",
       "      <td>...</td>\n",
       "    </tr>\n",
       "    <tr>\n",
       "      <th>31934</th>\n",
       "      <td>1</td>\n",
       "      <td>lady banned from kentucky mall. @user  #jcpenn...</td>\n",
       "      <td>59</td>\n",
       "    </tr>\n",
       "    <tr>\n",
       "      <th>31946</th>\n",
       "      <td>1</td>\n",
       "      <td>@user omfg i'm offended! i'm a  mailbox and i'...</td>\n",
       "      <td>82</td>\n",
       "    </tr>\n",
       "    <tr>\n",
       "      <th>31947</th>\n",
       "      <td>1</td>\n",
       "      <td>@user @user you don't have the balls to hashta...</td>\n",
       "      <td>112</td>\n",
       "    </tr>\n",
       "    <tr>\n",
       "      <th>31948</th>\n",
       "      <td>1</td>\n",
       "      <td>makes you ask yourself, who am i? then am i a...</td>\n",
       "      <td>87</td>\n",
       "    </tr>\n",
       "    <tr>\n",
       "      <th>31960</th>\n",
       "      <td>1</td>\n",
       "      <td>@user #sikh #temple vandalised in in #calgary,...</td>\n",
       "      <td>67</td>\n",
       "    </tr>\n",
       "  </tbody>\n",
       "</table>\n",
       "<p>2242 rows × 3 columns</p>\n",
       "</div>"
      ],
      "text/plain": [
       "       label                                              tweet  length\n",
       "13         1  @user #cnn calls #michigan middle school 'buil...      74\n",
       "14         1  no comment!  in #australia   #opkillingbay #se...     101\n",
       "17         1                             retweet if you agree!       22\n",
       "23         1    @user @user lumpy says i am a . prove it lumpy.      47\n",
       "34         1  it's unbelievable that in the 21st century we'...     104\n",
       "...      ...                                                ...     ...\n",
       "31934      1  lady banned from kentucky mall. @user  #jcpenn...      59\n",
       "31946      1  @user omfg i'm offended! i'm a  mailbox and i'...      82\n",
       "31947      1  @user @user you don't have the balls to hashta...     112\n",
       "31948      1   makes you ask yourself, who am i? then am i a...      87\n",
       "31960      1  @user #sikh #temple vandalised in in #calgary,...      67\n",
       "\n",
       "[2242 rows x 3 columns]"
      ]
     },
     "execution_count": 49,
     "metadata": {},
     "output_type": "execute_result"
    }
   ],
   "source": [
    "negative"
   ]
  },
  {
   "cell_type": "markdown",
   "metadata": {},
   "source": [
    "# to store all the tweets in one list"
   ]
  },
  {
   "cell_type": "code",
   "execution_count": 51,
   "metadata": {},
   "outputs": [
    {
     "data": {
      "text/plain": [
       "[' @user when a father is dysfunctional and is so selfish he drags his kids into his dysfunction.   #run',\n",
       " \"@user @user thanks for #lyft credit i can't use cause they don't offer wheelchair vans in pdx.    #disapointed #getthanked\",\n",
       " '  bihday your majesty',\n",
       " '#model   i love u take with u all the time in urð\\x9f\\x93±!!! ð\\x9f\\x98\\x99ð\\x9f\\x98\\x8eð\\x9f\\x91\\x84ð\\x9f\\x91\\x85ð\\x9f\\x92¦ð\\x9f\\x92¦ð\\x9f\\x92¦  ',\n",
       " ' factsguide: society now    #motivation',\n",
       " '[2/2] huge fan fare and big talking before they leave. chaos and pay disputes when they get there. #allshowandnogo  ',\n",
       " ' @user camping tomorrow @user @user @user @user @user @user @user dannyâ\\x80¦',\n",
       " \"the next school year is the year for exams.ð\\x9f\\x98¯ can't think about that ð\\x9f\\x98\\xad #school #exams   #hate #imagine #actorslife #revolutionschool #girl\",\n",
       " 'we won!!! love the land!!! #allin #cavs #champions #cleveland #clevelandcavaliers  â\\x80¦ ',\n",
       " \" @user @user welcome here !  i'm   it's so #gr8 ! \",\n",
       " ' â\\x86\\x9d #ireland consumer price index (mom) climbed from previous 0.2% to 0.5% in may   #blog #silver #gold #forex',\n",
       " 'we are so selfish. #orlando #standwithorlando #pulseshooting #orlandoshooting #biggerproblems #selfish #heabreaking   #values #love #',\n",
       " 'i get to see my daddy today!!   #80days #gettingfed',\n",
       " \"@user #cnn calls #michigan middle school 'build the wall' chant '' #tcot  \",\n",
       " 'no comment!  in #australia   #opkillingbay #seashepherd #helpcovedolphins #thecove  #helpcovedolphins',\n",
       " 'ouch...junior is angryð\\x9f\\x98\\x90#got7 #junior #yugyoem   #omg ',\n",
       " 'i am thankful for having a paner. #thankful #positive     ',\n",
       " 'retweet if you agree! ',\n",
       " 'its #friday! ð\\x9f\\x98\\x80 smiles all around via ig user: @user #cookies make people   ',\n",
       " 'as we all know, essential oils are not made of chemicals. ',\n",
       " '#euro2016 people blaming ha for conceded goal was it fat rooney who gave away free kick knowing bale can hit them from there.  ',\n",
       " 'sad little dude..   #badday #coneofshame #cats #pissed #funny #laughs ',\n",
       " \"product of the day: happy man #wine tool  who's   it's the #weekend? time to open up &amp; drink up!\",\n",
       " '@user @user lumpy says i am a . prove it lumpy.',\n",
       " ' @user #tgif   #ff to my #gamedev #indiedev #indiegamedev #squad! @user @user @user @user @user',\n",
       " 'beautiful sign by vendor 80 for $45.00!! #upsideofflorida #shopalyssas   #love ',\n",
       " ' @user all #smiles when #media is   !! ð\\x9f\\x98\\x9cð\\x9f\\x98\\x88 #pressconference in #antalya #turkey ! sunday #throwback  love! ð\\x9f\\x98\\x8að\\x9f\\x98\\x98â\\x9d¤ï¸\\x8f ',\n",
       " 'we had a great panel on the mediatization of the public service   #ica16',\n",
       " \"happy father's day @user ð\\x9f\\x92\\x93ð\\x9f\\x92\\x93ð\\x9f\\x92\\x93ð\\x9f\\x92\\x93  \",\n",
       " \"50 people went to nightclub to have a good night and 1 man's actions means those people are lost to their families forever #rip#orlando\",\n",
       " 'i have never had a chance to vote for a presidential candidate i was excited about and this cycle looks to be no different.  ',\n",
       " '  #alohafriday #time does #not #exist #positivevibes #hawaiian @user @user @user @user ',\n",
       " ' @user rip to the fellow nohern ireland fan who sadley passed away tonight!.. gawa, forever singing and cheering on fire  ',\n",
       " 'it was a hard monday due to cloudy weather. disabling oxygen production for today. #goodnight #badmonday  ',\n",
       " \"it's unbelievable that in the 21st century we'd need something like this. again. #neverump  #xenophobia \",\n",
       " '#taylorswift1989   bull up: you will dominate your bull and you will direct it whatever you want it to do. w ',\n",
       " 'morning~~ #travelingram #dalat   #ripinkylife ',\n",
       " '@user once more only one word tells it all: #photoshop.  #enoughisenough #dontphotoshopeverything #wheresallthenaturalphotos  ',\n",
       " 'oh, #cedarpoint. waited 2 hours in the valravn line and it stopped working. we were so close.  ',\n",
       " 'i am thankful for sunshine. #thankful #positive     ',\n",
       " \"when you finally finish a book you've been working on for awhile...  #bookworm #ontothenextnovel \",\n",
       " 'yup, being a knicks fan is hard, so its easier to just be an nba fan when the playoffs roll around ð\\x9f\\x98\\x8e ',\n",
       " 'there is life after social networking. embrace each day. be   ',\n",
       " 'my mom shares the same bihday as @user   bihday snake! see you this weekend ð\\x9f\\x99\\x8cð\\x9f\\x8f¼',\n",
       " 'lovely echeveria blooms#flowers #grow #gardening #iphonesia #bliss #blooms #basilicabotanica   ',\n",
       " 'i am amazing. #i_am #positive #affirmation     ',\n",
       " '#model   i love u take with u all the time in urð\\x9f\\x93±!!! ð\\x9f\\x98\\x99ð\\x9f\\x98\\x8eð\\x9f\\x91\\x84ð\\x9f\\x91\\x85ð\\x9f\\x92¦ð\\x9f\\x92¦ð\\x9f\\x92¦  ',\n",
       " '#whenever im   and #something goes #wrong  |  ',\n",
       " 'feeling blue #illustration   ',\n",
       " 'the best pa about life is knowing who you are! ð\\x9f\\x98\\x8aâ\\x98\\x80ï¸\\x8fð\\x9f\\x8c¼ð\\x9f\\x8c»  â\\x80¦ ',\n",
       " '#abc2020 getting ready 2 remove the victums frm #pulseclub #prayfororlando  ',\n",
       " 'for her #bihday we got her a #nose #job @user  ð\\x9f\\x8e\\x88ð\\x9f\\x90¶ð\\x9f\\x8e\\x89ð\\x9f\\x8e\\x82ð\\x9f\\x8e\\x81    #bihday #petunia we love you ð\\x9f\\x99\\x83 ',\n",
       " 'off to concelebrate at the #albanpilgrimage for the first time.   @user',\n",
       " ' @user let the scum-baggery begin..... ',\n",
       " 'thank you! ð\\x9f\\x98\\x8dð\\x9f\\x98\\x86 super love it! â\\x9d¤ï¸\\x8f zpamdelacruz   #wedding# @ dolores, capas tarlac. ',\n",
       " 'a scourge on those playing baroque pieces on piano    beyond belief ',\n",
       " '@user lets fight against  #love #peace ',\n",
       " ' happy fatherâ\\x80\\x99s day, mr. rayos #video   #fathers #day #rayos #world #hotvideo #videos',\n",
       " ' @user ascot times with this babe â\\x9d¤ï¸\\x8fâ\\x9d¤ï¸\\x8f #ascot #fashion #monochrome #style   #instahappyday ',\n",
       " 'the weekend..is here!!ð\\x9f\\x99\\x8cð\\x9f\\x98\\x89ð\\x9f\\x98\\x98ð\\x9f\\x92\\x99ð\\x9f\\x98\\x8a #selfie   #yolo #xoxo #like4like ',\n",
       " \"happy at work conference: right' mindset leads to culture-of-development organizations    #work #mindset\",\n",
       " \"christina grimmie's  last performance before being shot...  via @user #christinarip #voice #christinagrimmie  \",\n",
       " 'we are ready to dance #roar #preschoolers   #students #proudâ\\x80¦ ',\n",
       " \"you've really hu my feelings :(  \",\n",
       " \"@user my wife whom i adore had to miss your poland show because she had surgery. her name is bridget &amp; she's my everything.  \",\n",
       " '@user i am so jealous of you right now.... #chatiado  ',\n",
       " \"i celebrate every man that has played it's fatherly role.   father's day#\",\n",
       " \"i'm sure they are just as happy.... ð\\x9f\\x91\\x8fð\\x9f\\x8f½ð\\x9f\\x91\\x8fð\\x9f\\x8f½ð\\x9f\\x91\\x8fð\\x9f\\x8f½   hour  \",\n",
       " \"ð\\x9f\\x98©the white establishment can't have blk folx running around loving themselves and promoting our greatness  \",\n",
       " 'good morning! the journey begins! ð\\x9f\\x98\\x84ð\\x9f\\x91\\x8dð\\x9f\\x8f»ð\\x9f\\x9b³   #travel #yeah #thejourneybegins #helloâ\\x80¦ ',\n",
       " ' @user # if you #luv #hottweets like this from â\\x96¶ â\\x99¥#venusexchangeâ\\x99¥ ',\n",
       " 'our new brochures have arrived! how exciting!! #aworks #solutions   ',\n",
       " 'so much stuff happening in florida! first #orlando shooting and now #disneygatorattack on a two year old kidð\\x9f\\x98¥ð\\x9f\\x90\\x8a  ',\n",
       " '@user ferrari will do itð\\x9f\\x92ªð\\x9f\\x8f¼ for the sake of the championship. this gp is clearly a turning point rb, ferrari,mercs...ð\\x9f\\x98\\x8d  ',\n",
       " 'aced my first test!   #proud ',\n",
       " \"  seeks probe into #udtapunjab' leak, points finger at #amarinder, #aap  \",\n",
       " '@user wrapping up #senseaboutmaths @user 6th   @user @user @user ',\n",
       " \"@user hey, white people: you can call people 'white' by @user  #race  #identity #medâ\\x80¦\",\n",
       " '@user @user you might be. just have not shown here today. regurgitated talking points and name calling?  ',\n",
       " 'sometimes you have to raise a few brows to raise the bar. #golfstrengthandconditioning   #strong #felixfoisgolf',\n",
       " '  about that ð\\x9f\\x98\\x80ð\\x9f\\x98\\x80ð\\x9f\\x98\\x80 #greathonour #careerconvos @user @user ',\n",
       " ' @user designing #innovative learning space @user to include #wateringhole #cave #mountaintop #campfire @user   hâ\\x80¦',\n",
       " 'how the #altright uses  &amp; insecurity to lure men into #whitesupremacy    ',\n",
       " \"carrying a gun wouldn't of helped if you can't take it in with you. gun control won't stop the black market! terrorism will get worse!  \",\n",
       " 'use the power of your mind to #heal your body!! -     #altwaystoheal #healthy   #peace! ',\n",
       " 'woohoo!! just over 5 weeks to go!   ',\n",
       " 'being in a far away place where you have no family members hus  ',\n",
       " 'ready to rehearse tonight with new music and new videos, look out for the announcement! #midweek #newmusic #watchthisspace #guitar  ',\n",
       " 'now on monday nights at 8pm on #up channel!!!! i finally get to see what all the fuss is about!!!   ',\n",
       " 'watching the new episodes of @user on @user  ',\n",
       " ' @user offline now after a very nice and long night.. ð\\x9f\\x98\\x9a #snapchat @user   #redhead #vermillionred ',\n",
       " ' 15 things incredibly   #people do ',\n",
       " 'yes! received my acceptance letter for my masters so will be back at @user again in october!    #goodtimes #history',\n",
       " 'daughter riding her bike around driveway, son playing his guitar for us while we enjoy ð\\x9f\\x8dº by the campfire... #summeime   #memories',\n",
       " 'omg!!! loving this station!!! way to jam out at work!!! while getting work done of course!!!!   #memories @user ',\n",
       " \"@user i'll always hope that one day i'll get to hug you, but i don't think that it's gonna happen anytime soon... \",\n",
       " '#model   i love u take with u all the time in urð\\x9f\\x93±!!! ð\\x9f\\x98\\x99ð\\x9f\\x98\\x8eð\\x9f\\x91\\x84ð\\x9f\\x91\\x85ð\\x9f\\x92¦ð\\x9f\\x92¦ð\\x9f\\x92¦  ',\n",
       " '  couple having sex fat naked japanese girls  ',\n",
       " '#hump on that    #hump day #humpersð\\x9f\\x98© @ edwardsville, pennsylvania ',\n",
       " 'personalised we... gbp 7.99 get here:  #shop #cool   #home #fun ',\n",
       " 'there are some truly sick ppl out there.   ',\n",
       " 'trump calling on obama to resign over the orlando shootings? the boy has a point. 8 years and all he did was \"talk\" about change.  ',\n",
       " '@user @user @user @user not long now!!!   #nashvilletour2016 #nashvilleforever ð\\x9f\\x92\\x96ð\\x9f\\x92\\x96ð\\x9f\\x92\\x96 ',\n",
       " ' â\\x86\\x9d #eur/usd clears 1.1400 barrier, jumps to fresh 4-week high   #blog #silver #gold #forex',\n",
       " 'going to la tomorrow!!!  ',\n",
       " 'i am thankful for good friends. #thankful #positive     ',\n",
       " 'i still can not wrap my head around the fact that #christinagrimmie is gone. and the fact that a man destroyed #prayfororlando just  ',\n",
       " \"just received dis from @user can't wait to sta baking #eyelids .ð\\x9f\\x98\\x9að\\x9f\\x98\\x9að\\x9f\\x98\\x8eð\\x9f\\x98\\x8eð\\x9f\\x98\\x8eð\\x9f\\x98\\x8e   ð\\x9f\\x98\\x89ð\\x9f\\x98\\x89ð\\x9f\\x98\\x89â\\x80¦ \",\n",
       " 'we were so   to be playing for #vigilfororlando #harp #clonakilty #rip  via @user',\n",
       " ' @user yes yes yes   #ihavenofriends #someonecomewithme ',\n",
       " 'sunday...ð\\x9f\\x92\\x95 #weekend #relax #icon #woman #sundaymorning #sunday   #marilynmonroe ',\n",
       " \"@user i'm not interested in a #linguistics that doesn't address #race &amp; . racism is about #power. #raciolinguistics bringsâ\\x80¦\",\n",
       " 'one of my beloved long lost cds, now recovered thanks to apple music.  !  ',\n",
       " '#marvel #song #musica #weed #ripchristina #adele   #dance (vine by @user ',\n",
       " '@user why not @user mocked obama for being black.  @user @user @user @user #brexit',\n",
       " ' â\\x86\\x9d #under the spell of brexit referendum - commerzbank   #blog #silver #gold #forex',\n",
       " '100 amazing health benefits of cucumbers!    #healthy is  !!  #altwaystoheal! ',\n",
       " '#model   i love u take with u all the time in urð\\x9f\\x93±!!! ð\\x9f\\x98\\x99ð\\x9f\\x98\\x8eð\\x9f\\x91\\x84ð\\x9f\\x91\\x85ð\\x9f\\x92¦ð\\x9f\\x92¦ð\\x9f\\x92¦  ',\n",
       " 'off to work ð\\x9f\\x92ªð\\x9f\\x8f»ð\\x9f\\x9a¶ð\\x9f\\x8f¼ #ofw #pinoy #followme #igers #instagood #smile   #love # ',\n",
       " '#toradora #anime #animeedit i made it.   #breakups #alone #lonely ',\n",
       " '50 laps of pool, 10k ride done and picked up a gym membership form  ',\n",
       " '#cotd   polar bear climb racing: angry polar bear climb racing, the polar bear living in cold places looking ',\n",
       " ' @user @user gets him angry.  a muslim assassinating 50 not so much.    ',\n",
       " 'happy snappy ð\\x9f\\x99\\x8cð\\x9f\\x8f¼ waiting for the football   #football #snapchat ',\n",
       " 'friday i miss you!!   #fringes#qcbags#summer ð\\x9f\\x98\\x8eð\\x9f\\x98\\x8eð\\x9f\\x98\\x8eð\\x9f\\x8c\\x9eð\\x9f\\x8c\\x9eð\\x9f\\x8c\\x9eó¾®\\x9eð\\x9f\\x8f» ',\n",
       " '#nochebuena   #lasvegas #usa @ las vegas strip ',\n",
       " 'ma fleurette ð\\x9f\\x91¯ð\\x9f\\x92\\x95 #instaboy#instaman#sefie#septum#friend #smiles#blackandwhite ',\n",
       " 'sad in the branches itâ\\x80\\x99s just rainy day writing tears are flying birds   #haiku #3lines #micropoetry  ',\n",
       " 'yeah! new buttons in the mail for me ð\\x9f\\x92\\x96  they are so pretty! :) #jewelrymaking #buttons   ',\n",
       " ' @user driver hit female moose on river rd #weston.  moose was killed. driver is ok. crews removing animal now  ',\n",
       " 'afterpas.   made in japan. ï¼\\x83madeinjapan  #eos  ï¼\\x83cute #fun #cawaii #love   #strawberry #tomato ',\n",
       " \"#people aren't protesting #trump because a #republican won-they do so because trump has fuhered  &amp;â\\x80¦ \",\n",
       " 'i need to find a way to spend my time so you are not always on my mind. . .  #me #boy #guy  â\\x80¦ ',\n",
       " '[1466047260.15] update @  #social #analytics   #photooftheday #igers #likes ',\n",
       " 'anyone know the date our #doj and #fbi became corrupted? #emailgate #hillary2016 #shameful #disgraceful #ridiculous  ',\n",
       " '#stupidity makes me more   than even #negligence.why put #sachintendulkar a installation if u were going to take it off?',\n",
       " 'ð\\x9f\\x98\\x86ð\\x9f\\x92\\x95ð\\x9f\\x8c\\x9fð\\x9f\\x92\\x93â\\x9c¨â\\xad\\x90ï¸\\x8f  #ã\\x82\\x86ã\\x82\\x8aã\\x81\\x9dã\\x82\\x93   bihdayð\\x9f\\x8e\\x89 #21thbihday ð\\x9f\\x92\\x93 #bestfriend ð\\x9f\\x8c\\x9f #loveð\\x9f\\x91¼ ',\n",
       " ' @user ð\\x9f\\x92\\x8b d most impoant thing is to #enjoy your life - to be   - itâ\\x80\\x99s all that matters. life is too sho. #pooh4u ',\n",
       " 'happy bihday chris evansð\\x9f\\x8e\\x87ð\\x9f\\x8e\\x89ð\\x9f\\x8e\\x8að\\x9f\\x8e\\x81ð\\x9f\\x8e\\x82ð\\x9f\\x8e\\x86ð\\x9f\\x8e\\x88 a great actor and human ð\\x9f\\x98\\x81ð\\x9f\\x98\\x8dð\\x9f\\x98³ð\\x9f\\x98\\x98ð\\x9f\\x98»ð\\x9f\\x98¸ð\\x9f\\x92\\x9cð\\x9f\\x92\\x93ð\\x9f\\x92\\x9e #chrisevans   #bihdayâ\\x80¦ ',\n",
       " 'our heas, thoughts, prayers go out to the more than 50 people who were murdered @ a gay nightclub in #florida   ',\n",
       " ' @user demoing guitars for new album #newalbum #indie #guitars   #echobelly ',\n",
       " 'retweeted lion pro (@user  #tgif #webmareting #seo #community #management   #weekend... ',\n",
       " ' â\\x86\\x9d #nzd/usd: targets the 100 week sma at 0.7190   #blog #silver #gold #forex',\n",
       " \" @user i've had pretty bad bihday weeks before, but so far this is the worst ever. ð\\x9f\\x98\\x92 #bihdayweeksucks #bithday27   #tâ\\x80¦\",\n",
       " \"so blessed to have worked with sa's best leading ladiesð\\x9f\\x98\\x84ð\\x9f\\x98\\x84 \",\n",
       " 'happiest place on eah ð\\x9f\\x92« #disneysmagickingdom #disney #magickingdom #disneyland   #orlandoâ\\x80¦ ',\n",
       " 'is kinda   to be among humans again.',\n",
       " \"just found out @user is at @user after i'd been exclaiming to @user how gr8 blain's hair was the other nite.   ð\\x9f\\x98\\xad\",\n",
       " '@user &lt;3 listen to my most beautiful best friend  @user  singing with her most amazing voice &lt;3 &lt;3 &lt;3 &lt;3 17 ',\n",
       " 'be   n #healthy freedom from effo in the present merely means that there has been effo stored up in the past. â\\x80\\x93 theodore rooseveltâ\\x80¦',\n",
       " 'when you know yall 2 aint going know where :) #love #commitment #trust #faithful  ',\n",
       " \"yes it's  when you call #michelleobama a gorilla because racists have long thought of black people as no betâ\\x80¦ \",\n",
       " '#newarkfestival this is us all this year waiting for the show to sta our 3rd year running   ',\n",
       " \"when the internet is broken so you can't watch netflix. #mochithepug #puglife   \",\n",
       " '@user @user @user and she will do just that....then what..business as usual.  ',\n",
       " 'hbd to this dick suckin tequila lovin slut, i wouldnt want u any other way ð\\x9f\\x92\\x95ð\\x9f\\x98\\x98   #justalillate #butstillontime ',\n",
       " 'as the smaller hands show, barry probably lied about  being why his #knicks game sucked more than his #golfâ\\x80¦ ',\n",
       " 'good morning friday! what is everyone doing this weekend? #goodmorning #friday #girls   #love #florida ',\n",
       " \"  challenges #aap's claim that 70% #punjabis are #drugaddicts, dares it to prove   \",\n",
       " '#tracerequest sending my deepest condolences to the orlando gay families. zimbabwe gay community has you at hea   #touched',\n",
       " 'new selfie \\\\Â¤.Â¤/  #guy   #mato #chapones ',\n",
       " 'saturday afternoon chi meet up #friends    @user  @user  @user ',\n",
       " '#model   i love u take with u all the time in urð\\x9f\\x93±!!! ð\\x9f\\x98\\x99ð\\x9f\\x98\\x8eð\\x9f\\x91\\x84ð\\x9f\\x91\\x85ð\\x9f\\x92¦ð\\x9f\\x92¦ð\\x9f\\x92¦  ',\n",
       " 'soed out all my nut &amp; bolts.   #bloke',\n",
       " \"aww yeah it's all good bing bong bing bong   \",\n",
       " 'just dawned on me in 2 months i will be seeing @user live. i am so excited ð\\x9f\\x98\\x8dð\\x9f\\x98\\x8dð\\x9f\\x98\\x8d #vfest #summer  ',\n",
       " ' @user happy 35th bihday shane robe watson!!    #bihday #shane #watson #australia #cricker ',\n",
       " '@user @user you point one finger @user millions are pointed right back at you,  #jewishsupremacist',\n",
       " 'sad to hear the announcers say that \"it may have moved the player to one or two out of the lead\" #whoknows!  ',\n",
       " \"#radio1 i'm going to #coldplay tonight   oh yes.\",\n",
       " 'u think like this too? the god who is not coming through for me. the god who is not keeping me  . ',\n",
       " '@user terrorist = constitutional rights?  this is just another excuse by republicans to appease the nra with no gun control measures. !',\n",
       " \" @user it's all about @user   #gloucesterrugby \",\n",
       " ' @user very sad, @user what happened? ',\n",
       " 'everyone is everything   #sad #together #alone #up #down #fine #dandy #lonely #exuberant #depressed #halffull #halfempty',\n",
       " '#mikeashley #sposdirectshame , perhapse a good example of the need to protect #workersrights from within europe. #euref   #remain',\n",
       " 'angry birds stella bad princess   #birds #stella #bad #princess birdsstellabadprincess.  time post: wedâ\\x80¦ ',\n",
       " 'check  @user incredibly   to have made great  memories with great people , we did an ...',\n",
       " 'saw a t shi last night that said \"rip  to when i cared\"   #really',\n",
       " \" @user hilarious, @user i'm already blocked by @user for asking one, not paicularly difficult, question.   @user\",\n",
       " 'devastating news.  my hea goes out to the victims and their families.  #orlando #heabreaking   ',\n",
       " '\"happiness is not a state to arrive at, but a manner of traveling.\" margaret lee #runbeck   #happiness #quotes #inspirational',\n",
       " 'safe ways to heal your #acne!!    #altwaystoheal #healthy   #healing!! ',\n",
       " 'what i am creating right now. #beats #makingbeats #thursday   #work #istandard #akaiproâ\\x80¦ ',\n",
       " 'wedding number 10! ð\\x9f\\x98\\x9cð\\x9f\\x98\\x9cð\\x9f\\x92\\x96ð\\x9f\\x92\\x96ð\\x9f\\x92\\x90ð\\x9f\\x8d¾ð\\x9f\\x8d¾  #wedding #weddingpay     #love #forever #weddingdressâ\\x80¦ ',\n",
       " \"we're looking forward to attending the  cipd ireland conference &amp; workshop   #cpd #onemoreday @user  @user\",\n",
       " 'finally reached 200 followers on #twitch. follower hypu #stream tomorrow! â\\x9d¤  ',\n",
       " \"words r free, it's how u use em that can cost you! #verbal #abuse   #hu #love  #adult #teen @user \",\n",
       " 'after what our country went through this last year to see people bring a \"bomb\" to the stadium &amp; come here for everything but football  ',\n",
       " 'i am thankful for cats. #thankful #positive      ',\n",
       " 'time to eat with my bae swalscha ð\\x9f\\x98\\x8dâ\\x9c¨ð\\x9f\\x98\\x8b #dejeuner #lunch   #happiness #love #amoureuxâ\\x80¦ ',\n",
       " 'ilovethesecret  #lawofattraction  #quiz #love #happiness #motivation #success   #joy #lifeâ\\x80¦ ',\n",
       " 'you might be a libtard if... #libtard  #sjw #liberal #politics ',\n",
       " \"it's about to go down... #pole #bgp #rozthediva #blackgirlspole #bodyandpole #live #love  â\\x80¦ \",\n",
       " '#argentina2015   attack bull game 3d: do you really think that his head was empty around the city. each side ',\n",
       " 'what a self-serving hypocrite! always keep your eye on the bouncing ball with this nimrod president.   ',\n",
       " '#nohcarolina   bull up: you will dominate your bull and you will direct it whatever you want it to do. whe ',\n",
       " '#building   polar bear climb racing: angry polar bear climb racing, the polar bear living in cold places loo ',\n",
       " '@user @user if they want reelection money. #ksleg  ',\n",
       " 'my hea is with #orlando right now. i truly cannot imagine. could have easily happened anywhere. :(  ',\n",
       " 'alreemgroup #aly_alshahawy #ad #cute #summer #photographerdubai #sun   #hair #mydubaiâ\\x80¦ ',\n",
       " 'it seems like the only place with action here is montreal :(   ',\n",
       " ' @user that, and you are old and washed up! ',\n",
       " 'i am spirited. #i_am #positive #affirmation     ',\n",
       " 'i am thankful for enteainment. #thankful #positive     ',\n",
       " '@user @user @user this shows truly how bad brisbane are  ',\n",
       " \"@user can't wait for #wimbledon2016  \",\n",
       " 'happy man!!!  #success #model #entrepreneur  #speaker #ff #fresh #confident    #fashionâ\\x80¦ ',\n",
       " '#gala moments ...   #day #kid #bipolar #frikiegirl2016 @ the lucky chinatown mall, binondo,â\\x80¦ ',\n",
       " \"this really takes the piss. i'm so angry. just goes to show who is valued and who isn't. you complete and utter moron.  \",\n",
       " '@user take out the #trash america...  - i voted against #hate - i voted against  - i voted against  - i votâ\\x80¦ ',\n",
       " '  fathers day to all the #amazing #dads out there that give up so much for their families! #enjoy your... ',\n",
       " 'does #magnettherapy really work?   #altwaystoheal #healing #healthy   !! ',\n",
       " 'sebbo has said it all!  @user ',\n",
       " 'ð\\x9f\\x98\\x81ð\\x9f\\x98\\x81ð\\x9f\\x98\\x81â\\x9d¤ï¸\\x8f egã\\x80\\x9cï¼\\x9fï¼\\x9fï¼\\x9f smile!!!!!â\\x9d¤ï¸\\x8fð\\x9f\\x97£ð\\x9f¤\\x98ð\\x9f\\x8f½ ã\\x83» #smile#egsmile #torio  ',\n",
       " '@user brilliant service at your kettering branch today   customer',\n",
       " '@user will be here for a screening. i will miss it. so i will sing all the songs from potp and shock treatment, because i can.  ',\n",
       " 'on the way toraya #bus #alamindah #white #music #carrieunderwood   ',\n",
       " '#model   i love u take with u all the time in urð\\x9f\\x93±!!! ð\\x9f\\x98\\x99ð\\x9f\\x98\\x8eð\\x9f\\x91\\x84ð\\x9f\\x91\\x85ð\\x9f\\x92¦ð\\x9f\\x92¦ð\\x9f\\x92¦  ',\n",
       " 'good day - 6 new beers at bridpo food &amp; beer fest. back at the campsite drunk the @user starstruck &amp; moved on to @user #5.  ',\n",
       " 'g o a l s ð\\x9f\\x92\\x99 repost from @user #propey #ocean #summer   #life #family @ sydneyâ\\x80¦ ',\n",
       " \"i want to teach you love like you've never felt it before.  #quote #quotes #love #pakistan #allin216 #girls #boys #fashion   #feelings\",\n",
       " 'i am thankful for now. #thankful #positive     ',\n",
       " \"omg just 100 days left!! #countdown   #nolefam @user can't wait for him to come to milan! #22092016 ð\\x9f\\x98\\x8dð\\x9f\\x94\\x9c \",\n",
       " ' @user stone roses done. now time for @user in a d club.   days',\n",
       " '\"there\\'s a reason why two people stay together, they give each other something nobody else can.\" hopelly greats day ',\n",
       " 'you never know who might have a crush on you! #wakow #buzz   #moment #ride #love #crush #dating #hookup #app ',\n",
       " 'my friend just got engaged  ð\\x9f\\x91©â\\x80\\x8dâ\\x9d¤ï¸\\x8fâ\\x80\\x8dð\\x9f\\x92\\x8bâ\\x80\\x8dð\\x9f\\x91©',\n",
       " '298 days lef b4 end of classez yay    #risay18 #risaypls',\n",
       " '  #thursday ð\\x9f\\x98\\x8a may we watch how we say what needs to be be saidâ\\x80¦ ',\n",
       " 'i am legendary. #i_am #positive #affirmation     ',\n",
       " \"to the united states of america, from the rest of the world: i think you've proven you don't have the right to own firearms.    \",\n",
       " \"if you hold open a door for a woman because she's a woman and not because it's a nice thing to do, that's . don't even try to deny it\",\n",
       " 'when your having a good weekend and it shows :) #thankful #blessed   // #jeffreycwilliams ð\\x9f\\x92\\x8eâ\\x80¦ ',\n",
       " 'when you have a good hea and help everyone you always seem to be the one who gets hu   #buttrue',\n",
       " 'the happiest baby ive ever knownð\\x9f\\x92\\x93 #cute #smiles   #babygirl #beautiful #niece #blessed #xo ',\n",
       " 'are you ready for #t.b.c ? #oneteamlincoln are... ð\\x9f\\x98\\x8d  @user @user @user @user ',\n",
       " \"can't wait for carowinds! ready to see @user  and @user  time to #rockthepark    #timetogetmyjesuson\",\n",
       " 'already bought my finding dory ticket  ',\n",
       " 'for every minute you are   you lose sixty seconds of #happiness - and you should do the same ð\\x9f\\x98ª',\n",
       " '#sanjapan   #animeconvention see you guys in september! ',\n",
       " 'question of the day: excited for motoâ\\x80\\x99sâ\\x80¦  #tech #announcements   #moto_s #question ',\n",
       " 'make today count! #mondaymotivation #livelifetothefullest   #healthy #everydaycounts ',\n",
       " 'happy morning 8degree with anna #classmate #friends   @ 92â\\x80¦ ',\n",
       " '@user would u be able to suppo our event #brentwood #homesta they lost funding and may have to close   ',\n",
       " 'we are happy little peoples ð\\x9f\\x98\\x8a   happyhappy people #kitten #cat #blackkittenâ\\x80¦ ',\n",
       " '@user @user @user thank you very much for this oppounity will cherish it forever   ð\\x9f\\x87¿ð\\x9f\\x87¦ð\\x9f\\x8d» ð\\x9f\\x8f\\x89ð\\x9f\\x92ªð\\x9f\\x8f»ð\\x9f\\x91\\x8dð\\x9f\\x8f¼',\n",
       " 'ð\\x9f\\x93· themeowood:   puppy ',\n",
       " 'few more days till who is  ? ð\\x9f\\x98\\x8d ',\n",
       " '\"happy\" by pharrell williams    #pharrellwilliams lyrics â\\x86º',\n",
       " ' @user happy at w.ork conference: right mindset leads to culture-of-development organizations    #workâ\\x80¦',\n",
       " 'we lost another member of our family yesterday:-( #gutted   #rosie ',\n",
       " 'yayyy.... trailer 2morrow #fever super   @user @user @user',\n",
       " 'watch fancy tails\\'s vine \"mad #mad   #teeth #bite #pissed #dog   #biting #dogbite #dogtreat  ',\n",
       " '#dreamcatcher   bull up: you will dominate your bull and you will direct it whatever you want it to do. when ',\n",
       " \"i'm so ready for tomorrow ð\\x9f\\x91\\x93ð\\x9f\\x93\\x9að\\x9f\\x93\\x9að\\x9f\\x93\\x9að\\x9f\\x93\\x96ð\\x9f\\x93\\x91#englishteacher #teacher #ecuador   \",\n",
       " 'in memory of my wonderful dad, always missed, eternally loved. #strong   #greatquotesâ\\x80¦ ',\n",
       " ' @user @user on dallas shooting \"the video you\\'re about to see is disturbing, so viewer discretion\" then they play it in a loop oveâ\\x80¦',\n",
       " \"#itako#alone#it's fine.  a little. \",\n",
       " 'sunshine &amp; stickers kind of saturday ð\\x9f\\x91¸ð\\x9f\\x8f½  #letthembelittle #childhoodunplugged   ',\n",
       " 'had a wonderful day today â\\x98\\x80ï¸\\x8f #calm #sunny   #chubbygirl #glasses #finnishgirl #finn ',\n",
       " 'buka bersama tma family...   #yuhuuuuu #tmaâ\\x80¦ (w/ risha, meylucky, &amp; 3 others at mayfair townhouse) [pic] â\\x80\\x94 ',\n",
       " 'he loves you more than you know.ð\\x9f\\x98\\x8að\\x9f\\x92\\x96 #nationalbestfriendsday #true  ',\n",
       " '@user this man ran for governor of ny, the state with the biggest african-american population    #â\\x80¦',\n",
       " '#stereotyping #prejudice  offer no #hope or solutions but create the same old repetitive #hate #conflictâ\\x80¦ ',\n",
       " 'who can get the pussy quicker these days   ð\\x9f\\x98\\x94',\n",
       " \"i'll probably be 30 by the time @user comes back home   #ugh\",\n",
       " '#model   i love u take with u all the time in urð\\x9f\\x93±!!! ð\\x9f\\x98\\x99ð\\x9f\\x98\\x8eð\\x9f\\x91\\x84ð\\x9f\\x91\\x85ð\\x9f\\x92¦ð\\x9f\\x92¦ð\\x9f\\x92¦  ',\n",
       " ' @user anyone playing voez? kinda in love with this game ð\\x9f\\x98\\x98ð\\x9f\\x98\\x98ð\\x9f\\x98\\x98 #game   #gaming #girlgamer #voez ',\n",
       " 'how many#pols passed by how many times and said nothing?   #bluelivesmatter #draintheswamp  #ferguson  ',\n",
       " 'sequoia is   about the #weekend! ',\n",
       " 'some bitches care more about their eyebrows then how much $$$ they makin at the end of the week  ',\n",
       " 'bham is pride paradeready#beyou# #ofbham   @user @user @user ',\n",
       " '  #fathersday to all the guys who play dad out there we #love you ð\\x9f\\x92\\x95 ',\n",
       " '#æ\\x9c´å®\\x9då\\x89\\x910616ç\\x94\\x9fæ\\x97¥å¿«ä¹\\x90  bihday to my bogummy!!!love you forever!hope you happy everyday!good night!ð\\x9f\\x92\\x95@user ',\n",
       " 'wishing all our clients had baby goats to cuddle!   ',\n",
       " '  #positivevibes #fresh love you guys. get some!!! @ concord mills mall ',\n",
       " \"the #conjuring2 get ready to be scared! tonight it's on! #readyornot #truestory   \",\n",
       " 'â\\x80\\x9ctoday is the day to make the change. eliminate negativity and choose to live a positive lifestyle instead.â\\x80\\x9d   ',\n",
       " ' @user aaahh! nabilah looks so   ð\\x9f\\x98\\x8d   arigatou jkt48! have a very happy daaay â\\x98ºï¸\\x8f #iwearbanana  ',\n",
       " 'last day at work tomorrow for me- self employed from monday #scared   #redditchbizhour',\n",
       " '@user im half boy half man.... so im dumb too??   ð\\x9f\\x98¢ð\\x9f\\x98\\x82',\n",
       " 'my happy little boy! #smiles   #corbinrayp ',\n",
       " \"never been more appropriate: i have zero idea of what i'm feeling right now #scared   #missyou #whatwasthat \",\n",
       " ' @user have a magnificent monday! #mondaymorning #mondaymotivation #monday   #indraloka ',\n",
       " 'i just dont understand y these designers print animals on fabric, just bought @user muzlin 5b #sanasafinaz   #noexchangepolicy',\n",
       " 'maybe 4 happy hour you can get a \"  #ending\" ó¾®\\x97ó¾\\x8cµó¾\\xad» ',\n",
       " '#littlebear and her friend #joy   #toddlerfriends #puresweetness #latergram #toddlerfun ',\n",
       " \"if you have never lost a loved one to senseless violence you don't get a fucking opinion on the 2nd amendment   \",\n",
       " 'where is the world heading? you could lose your life just for leaving your home. #orlando  ',\n",
       " 'i heard him say that, he was trying to lock the shooter in,  but kept other patrons from getting out!    ',\n",
       " 'good mood flight with @user off to munich for @user interviews!   #pharrell ',\n",
       " 'first presentation by @user in the netherlands by @user   ',\n",
       " 'u made us proud i hv been reading ur words &amp;  assured it will b a assoment of petite emotions wish u the best. ',\n",
       " 'happiness vs joy. happiness is temporary and leaves u hu. joy last forever and never leaves. #real #tru   ',\n",
       " 'twinklatinboys - na: #slut #snapshot #hot #nasty #naughty #sexy #horny #shy #porn #nude   #kinky #xxx #y... ',\n",
       " ' @user it is not   people who are thankful. it is thankful people who are happy.  #thankfulthursday ',\n",
       " 'i am creative. #i_am #positive #affirmation     ',\n",
       " 'i have held back tears. i have cried happy tears &amp; finally we leave a week tomorrow!!! @user @user #canadianravers  ',\n",
       " 'bihday pressie from my mummy and my granny #michaelkors #luckygirl   #bihday #liverpool ',\n",
       " ' @user stuck in athens instead of santorini because @user said it was to windy to land! shocking service on every level since!â\\x80¦',\n",
       " ' @user these happy folks had the very first #freakshake at the launch. #freaks   #yum #dalston @user ',\n",
       " 'what a \"huge\" crowd for trump. ',\n",
       " 'i am thankful for saturdays. #thankful #positive     ',\n",
       " 'good god, why?!   ð\\x9f\\x98³ ',\n",
       " ' @user enjoying these delicious melons! #vegan #organic #fresh #fruit #organic #healthy #healthyliving   #life ',\n",
       " \"first months, then weeks, now it's only days till the beginning of the end of @user i am both   and #sad at the same time.ð\\x9f\\x98\\x80ð\\x9f\\x98¢\",\n",
       " \"it's a firework!! weeheeeee~ ð\\x9f\\x8e\\x87ð\\x9f\\x8e\\x87ð\\x9f\\x8e\\x87ð\\x9f\\x92\\x83ð\\x9f\\x8f»ð\\x9f\\x92\\x83ð\\x9f\\x8f»ð\\x9f\\x92\\x83ð\\x9f\\x8f»ð\\x9f\\x98\\x81ð\\x9f\\x98\\x81ð\\x9f\\x98\\x81  â\\x80¦ \",\n",
       " '#blackpool   attack bull game 3d: do you really think that his head was empty around the city. each side is ',\n",
       " '  #fathersday to all our the amazing fathers out there today. ',\n",
       " 'i just want to be  . is that too much to ask for? ð\\x9f\\x99\\x84',\n",
       " '@user ready and waiting! #newblood16   ',\n",
       " \"i'm sad. my aunt passed away. she was 96.   #funeral\",\n",
       " '7 horribly  ads from #2016 that made us cringe ',\n",
       " \"wouldn't mind robson-kanu at s6. decent player. available on a free transfer too  \",\n",
       " \" @user come on @user ...you can do better than this. please put yourself in @user 's shoes. unnecessary stress hâ\\x80¦\",\n",
       " \"stalk me. watch me. i'm just a peon. poor. disabled. kill me.this #usa is not the usa i used 2b proud of &amp; the universe doesn't care.  .\",\n",
       " \"#stephcurry's outburst begs the question: can christians get  ? #nbafinals \",\n",
       " \"i'm so   and #grateful now that - #affirmations \",\n",
       " '8 more weeks to go then im san antonio bound to see @user  i cant wait to see my little brother! #missyou   #mybrotherskeeper',\n",
       " 'listen up &gt;&gt;&gt;&gt;&gt;&gt;&gt; ',\n",
       " '@user \"the dying of the light\"  village green/townÂ²  #antisemitism #hocoschools #columbiamd #hocomd',\n",
       " 'hahaha.. this is me last #friday   &amp; #weird ',\n",
       " 'hey, i noticed that u are a training lover, so i ask u to check my free app, it\\'s known as \"my training\" on apple ',\n",
       " 'sexy as fuck #directioner   #niall #nialhoranfacts #niallerwins #hot #justindrewbieber #justindb #believetou... ',\n",
       " ' @user   #father\\'sday! say \"i love you\" to your dad right now! #sanya #whererefreshingbegins ',\n",
       " 'guess who back, back again! #lifeaftersurgery ð\\x9f\\x91\\x8fð\\x9f\\x8f¼#dog #dogslife #labrador #labradorretriever #lifeofsam   ',\n",
       " 'hey superspoilt, you may want to check  for latest updates on #glastofest ð\\x9f\\x94¥_ ',\n",
       " '@user @user @user @user @user    bihday sid... god bless you.. hav a successful career',\n",
       " \"nba finals = ambivalent , love steph and thompson, kyrie stinking it up, green is an class a doosh, lebron won't talk to guillermo  \",\n",
       " \"check out my production team's web-series episode that was edited by yours truly.   #mep #webseries \",\n",
       " '#model   i love u take with u all the time in urð\\x9f\\x93±!!! ð\\x9f\\x98\\x99ð\\x9f\\x98\\x8eð\\x9f\\x91\\x84ð\\x9f\\x91\\x85ð\\x9f\\x92¦ð\\x9f\\x92¦ð\\x9f\\x92¦  ',\n",
       " \"@user you never answered me about your statement on the #nazi's over #hatred,  &amp; #bigotry being found wâ\\x80¦ \",\n",
       " '  #juneteenth #independenceday #food4thought #rich #ancestral #heritage @ independence hall ',\n",
       " '#river   gorilla simulator: you need to do to adapt to the environment. the need to tear the city. material ',\n",
       " \"watching the @user leadership embrace &amp; kiss donald's ass is #pathetic &amp;  . this is now the @user pay. a pay of racism &amp; hate. #ripgop\",\n",
       " 'i love how i am so mature for my ageð\\x9f\\x98\\x87  ð\\x9f¤\\x91ð\\x9f\\x98\\x85',\n",
       " \"aww yeah it's all good bing bong bing bong   \",\n",
       " \" @user it's such a good feeling when this happens. #smile   #instalike #instamood #instapic \",\n",
       " 'check it  #graffiti  #dublin #ireland #music #vimeo #movie #video #europe #people #flow #fun   #rafalwojcicki',\n",
       " '#oitnbseason4 in 2 days!!! aaahhhhh  ',\n",
       " \" @user it's @user #iampossible today! #extraordinaryladyspeaks #starawards   @user @user htâ\\x80¦\",\n",
       " 'sun is out! happy thursday! â\\x98\\x80ï¸\\x8fð\\x9f\\x8c»â\\x98\\x80ï¸\\x8fð\\x9f\\x8c»â\\x98\\x80ï¸\\x8f #breakfast in the #sun   #day #sunnyday #sun #blueâ\\x80¦ ',\n",
       " 'packing sneak-peek!   to be working with the #yellowjackets of the #neshl for 2016! @user #bhl #hockey ',\n",
       " 'tony sunday! #tonyawards  ',\n",
       " \"happy father's day 2016 to my dad and all of the dad's out there!!  #fathers#day  #2016 \",\n",
       " \" @user theverdict is in; i'm an idiot #country #rock #bluegrass #beatles #love #pop   #romance  \",\n",
       " ' â\\x86\\x9d #projects of the week, june 13, 2016   #blog #silver #gold #forex',\n",
       " ' @user #300dayshappy @user #dayseventyseven #day77  #happiness #love#lifequotes #lifeâ\\x80¦ ',\n",
       " 'my little brother has a higher tolerance of alcohol than me!   lol',\n",
       " 'wishing this guy a   #bihday !!  blaze says @user is the spitting image of aâ\\x80¦ ',\n",
       " 'i am thankful for hiking trails. #thankful #positive     ',\n",
       " \"all pay meeting to tackle a movie which uncovers a problem we don't want the world to know.  \",\n",
       " ' @user chill relaxing piano music to keep your pet #quiet and   during #july4th #fireworks  â\\x80¦ ',\n",
       " 'you might be a libtard if... #libtard  #sjw #liberal #politics ',\n",
       " \"@user nothing says 'merica, like that @user tweet.   \",\n",
       " 'always be   #paratyphoid ',\n",
       " ' @user \"today i lost a #thevoice sister senselessly - we sing for love not death people.\" #stopthehate #ripchristina   ',\n",
       " 'some guys too concerned about their twitter \"brand\" to be honest with their followers.  ',\n",
       " \"i hate like 90% of my family.... i was really born into a big ass toxic bomb! mother fuckers don't give a fuck about me cuz i got money  \",\n",
       " 'get #up get   get  #enjoy #music #today #free #apps #free #music ',\n",
       " 'best #lawofattraction #resources for #healing!    #altwaystoheal #healthy is  ! #idwp ! ',\n",
       " 'trump ny co-chair makes racist remarks about michelle obama  #p2 #p21 #fyi  #tcot',\n",
       " 'are you a @user fan? this should make you      ',\n",
       " '#music as #therapy as a tool for #healing!   #altwaystoheal #healthy is  !! ',\n",
       " 'how can food make a family fight mxm  ',\n",
       " 'delicious sangria#salud#cheers #smile @ the pub pembroke ',\n",
       " 'have a fabulous weekend beautiful souls #nofilter   ð\\x9f\\x98\\x98 ',\n",
       " \"when i'm feeling #overwhelmed and   i look down and see a million reasons to be #happy again. i love you craig!! \",\n",
       " 'back to the day job for shane lowry!   ',\n",
       " '  hour right now! 2-4-1 bottles &amp; drinks from 4-7pm @user 42 w. chippewa st. #buffalo ',\n",
       " 'anas + nimra + farishta + mawia + khushal  960 + 952 + 503 + 484 + 435 = 3334   the number of marks obtained is too damn high   :p',\n",
       " 'my monday is so empty without the bachelorette ð\\x9f\\x98©ð\\x9f\\x8c¹ð\\x9f\\x8d· #thebachelorette   #empty #nowine',\n",
       " \" suppoing family, god, chivalry, tradition, and pride in one's heritage is now controversial.  \",\n",
       " '@user the pic says otherwise for young girls confined in that kitchen. you are void of meaning, beyond cheap publicity #topoli ',\n",
       " '#good night!  ??  #faith ever #vaitacacommafiasdv',\n",
       " 'do what you love to do simply for the love of it. #love #success   #work #businessâ\\x80¦ ',\n",
       " 'lunchtime with mom. #torrington #lunch #afterschool #instadaily #yummy   #withmom @user ',\n",
       " \" @user my sister ain't even know i was watching her argue with the nigga ð\\x9f\\x98\\x82ð\\x9f\\x98\\x82ð\\x9f\\x98\\x82 was waiting for him too say the wrong shit  \",\n",
       " 'ride out, ride back ...done! #cycling #sunset   #ride #bikes #fitness #cardio #deseâ\\x80¦ ',\n",
       " 'well i was gonna go see adtr with bae...  ',\n",
       " ' @user #tagsforlikes #me #food#friends#summer#swag#quotes #love#god#girl   #weekend #polaroid #followme #teen #win#job ',\n",
       " '#payintheusa   polar bear climb racing: angry polar bear climb racing, the polar bear living in cold place ',\n",
       " '11:11   healthy fam',\n",
       " 'dream palace, can we move in already? #stellar   #girls #dreamy #goodmorning daysâ\\x80¦ ',\n",
       " 'im waiting for a follow since the x factor   ',\n",
       " \"@user but it's your fault you have to use it to pointscore. \",\n",
       " \" @user this week staed off kinda lame but it's getting better! #yay   #wednesdaywisdom\",\n",
       " \" @user #forever @user   young man he luks too hot wen he is in temper i'll b alwys ur fan till my lst breathâ\\x98º hâ\\x80¦\",\n",
       " \"don't worry #bee   \",\n",
       " 'double tap and follow me #beautiful #smooth #lifestyle #skin #instasize  #f4f #fashion  â\\x80¦ ',\n",
       " '#lawofattraction for #healing #loa   be #healthy   #well #idwp ! ',\n",
       " ' â\\x86\\x9d #oil turns flat to $50.40, eyeing eia inventory data for fuher direction   #blog #silver #gold #forex',\n",
       " \"training in new employee's is fun. #newblood  \",\n",
       " '  #first #bihday to our #puppy #eloise #sweetbabins #dog #growingup #cute #bihdaygirl @user ',\n",
       " ' @user   - 5,000 pigs burn alive in saskatchewan barn fire (video) ',\n",
       " \" @user you'll never convince me that americans have the right to bear these.   #prayfororlando #guncontrol \",\n",
       " 'with my beautiful ladies!!! is a blessing to know them !!ó¾\\x8c¬ó¾\\x8c¬. #smile   #lovethemâ\\x80¦  ',\n",
       " 'today baba siddique ifftar pay at mumbai. @user &amp; @user dono ayenge.   to see both again',\n",
       " '  hands | #ombre #blue ',\n",
       " \" @user i can't wait to go see warcraft, ugh ð\\x9f\\x98\\xadð\\x9f\\x98\\xadð\\x9f\\x98\\xad   #warcraft\",\n",
       " 'cousins reunited...  #family#fun@user wellness ',\n",
       " \"at @user for 'an audience with duane henry ' ....should be very insightful  \",\n",
       " \"my train hasn't moved so i'm binge tweeting  \",\n",
       " 'have my lover stop being angry at me visit us..&gt;&gt;&gt;  #lover   #friend #astrologer #love ',\n",
       " \"@user when you're blocked by a  troll because you promise to  #blacklivesmatter &amp; let his nonsensical rants boosâ\\x80¦ \",\n",
       " \"  father's day to all the dads here and the one's that are in heaven \",\n",
       " '#sdl326am @user   june 16 @user',\n",
       " 'how creepy awesome are these baboons climbing the fire escape like humans on @user   #summev #zoo ',\n",
       " 'use the power of your mind to #heal your body!    #altwaystoheal #healthy is  !! ',\n",
       " \"dude i'm a tiger! #roar #tiger #annaswelshzoo   #bihdaycelebrations \",\n",
       " \" @user we don't #laugh because we're happy... we're   because we laugh. - william james.  #xtra\",\n",
       " 'have a happy sunday everyone! i think today is going to be a good day :) #positivevibes   #sunshine #sunday ',\n",
       " \"can we talk about the ways in which organizations dehumanize us? and how they're never held accountable?  \",\n",
       " 'stuck in the rat race? find your freedom.   #masterkeyexperience ',\n",
       " \"i have to study...   #face #pizza (i stole my roommate's idea for taking this pic) \",\n",
       " 'dinner with sister!! ð\\x9f\\x98\\x8aâ\\x9d¤ï¸\\x8fð\\x9f\\x91¯ð\\x9f\\x8e\\x89    #sisteradventures #sister #ilovemysisterâ\\x80¦ ',\n",
       " 'who else is planning on watching @user tomorrow? ð\\x9f\\x98\\x8d   ð\\x9f\\x98\\x83',\n",
       " \"#usn rifle day 'snowed out', so ar-15 is closest to m-16 i ever got. @user @user @user   #navy\",\n",
       " 'euro 2016: bbc pundits make their predictions for france  #euros sta today -    ',\n",
       " ' @user because i am happy! ð\\x9f\\x98\\x8eð\\x9f\\x98\\x8e #happiness #minions   ',\n",
       " 'no elder scrolls for many years?!! wah wah    #bethesda #e3 #e32016',\n",
       " ' @user poor #tiggy ð\\x9f\\x98¢ and a little bit cheeky #jax &amp;   ð\\x9f\\x98\\x88 #soa #throwbackthursday @user @user @user ',\n",
       " 'cannot wait for #eurogamer this year! #pumped   #eurogamer2016',\n",
       " 'very   to work with russell.beckwith soon #staytuned ð\\x9f\\x93¸: my friend lyle!! #tapfoags ..â\\x80¦ ',\n",
       " 'why the nazis studied american race laws for inspiration â\\x80\\x93  #ushistory  #eugenics',\n",
       " 'sharing ice cream #sun #love #outdoors #picnic #summer #family #daughter #father #desse #icecream   ',\n",
       " 'nothing like a river island sale shopping spree to cheer you up #retailtherapy #riverisland #shoppingqueen #alwayscheersyouup   ð\\x9f\\x91¸ð\\x9f\\x8f¼',\n",
       " \"cleaning ze house and zoing ziy laundry. ã\\x83\\x84 i'm finally free from fever and colds. â\\x88©__â\\x88©i'm happy! #cleaning #laundryday  \",\n",
       " '2 new listings are up!   #ebay     #woohoo #sell #selling #buy #shop #shopping ',\n",
       " 'i am thankful for my challenges. #thankful #positive     ',\n",
       " 'chilled night in with ice cream&amp; grown up2! #chilled  ',\n",
       " '@user #biherism absolutely originated in hateful  #bigotry #altright hatred of our african american #potus #theresistance',\n",
       " ' @user * sweets ð\\x9f\\x8d°ð\\x9f\\x8d©ð\\x9f\\x8d¬ð\\x9f\\x8d\\xadð\\x9f\\x8d«â\\x9c¨!!!!!! * #instagood #ì\\x95\\x84ì\\x9d´ë\\x8f\\x8c #å\\x81¶å\\x83\\x8f #idola #idol #à¹\\x84à¸\\xadà¸\\x94à¸\\xadà¸¥ #followme #selfie   #ã\\x81©ã\\x82\\x8bã\\x81\\x88ã\\x82\\x8câ\\x80¦ ',\n",
       " 'all these tragedies in america first with the killing of #christinagrimmie and now #orlando #america is not a safe place to be today!  ',\n",
       " ' â\\x86\\x9d #brexit angst a factor helping drive down interest rates in germany and japan - bbh   #blog #silver #gold #â\\x80¦',\n",
       " 'fab &amp; interesting day at #eacbpm. now dash to a quiet place to dial into iiba emea region meeting #busy   :)',\n",
       " \"kayak, sup, snorkel, swim...whatever your pleasure, we'll put it together!  #alohabeachbus   #hawaii #explore \",\n",
       " 'u can hold a man down for years ...and watch him change on u over some hear say..    no loyalty.. no... ',\n",
       " \"we'll back going to tacloban now! see ya later!ó¾\\x8cµâ\\x9d¤   #great â\\x80\\x94 traveling to tacloban city from catbalogan \",\n",
       " \"@user how do you feel about that? you haven't won any olympics medal  \",\n",
       " 'angry birds il film download ita â\\x80\\x93 720p hdtc (2016)    #birds #download #film #il #ita',\n",
       " '  #sunday to you all ð\\x9f\\x98\\x98 #photo by @user  #model #urbex #topless #tits #mono #retweet # #sexy #heels #ace ',\n",
       " 'fo woh officer in viral arrest video was â\\x80\\x98rude not racistâ\\x80\\x99: chief  #crime #officerâ\\x80¦ ',\n",
       " '@user @user @user @user   saturday  friends',\n",
       " 'yayyyy my friend got married today ð\\x9f\\x91°ð\\x9f\\x91°ð\\x9f\\x91°ð\\x9f\\x91«ð\\x9f\\x91« congratulations guys. â\\x9d¤ï¸\\x8fâ\\x9d¤ï¸\\x8f  #shegotmarried  â\\x80¦ ',\n",
       " '#model   i love u take with u all the time in urð\\x9f\\x93±!!! ð\\x9f\\x98\\x99ð\\x9f\\x98\\x8eð\\x9f\\x91\\x84ð\\x9f\\x91\\x85ð\\x9f\\x92¦ð\\x9f\\x92¦ð\\x9f\\x92¦  ',\n",
       " 'if lewis remains perfect, the rangers announcers are gonna stroke out.  ',\n",
       " 'chris is so   to be back to #soccer after missing most of #spring #season with a brokenâ\\x80¦ ',\n",
       " 'train tickets booked for my opera week in wales  ',\n",
       " \"it's a beautiful day..... #sun   #fun #beachpark @ beach park \",\n",
       " 'the big screen is being fitted right now   #euros2016 ',\n",
       " 'not all love stories are happy ending.  #anime #love #story #not   #ending #like4likeâ\\x80¦ ',\n",
       " '#poet   bull up: you will dominate your bull and you will direct it whatever you want it to do. when you sta ',\n",
       " 'i am tranquil. #i_am #positive #affirmation     ',\n",
       " '@user is that the name of any upcoming new track? ð\\x9f\\x98\\x81ð\\x9f\\x98\\x81   #2pm #kpop',\n",
       " 'best #essentialoils for #anxiety !!     #healthy   #peace !!  #altwaystoheal !! ',\n",
       " \"@user @user @user  wow some people's children have nothing better to do then insult people on twitter .  .\",\n",
       " 'thinking maybe i should have bought @user instead of @user   #gettingold #becomingboring #notborderlands #goblizzard',\n",
       " 'the fact that @user album is an hour away from dripping has me losing my mind..   #fatkidinacandystore',\n",
       " 'ryderrideu - see you c2c and cum together: #snapshot #young #shy #kinky #wet #porn #hot   #xxx #horny #s... ',\n",
       " 'ð\\x9f\\x8c¸ð\\x9f\\x8c»ð\\x9f\\x8c¼ð\\x9f\\x8d\\x83ð\\x9f\\x8cº snapchat: gaby_china20  #love #girl #snapchat   #flowers #instasmile #instaloveâ\\x80¦ ',\n",
       " 'i am brilliant. #i_am #positive #affirmation     ',\n",
       " ' @user true :/ niggas dont go looking for apaments they go look at shoes and jewelry  ',\n",
       " 'safe ways to heal your #acne!!    #altwaystoheal #healthy   #healing!! ',\n",
       " '#msgapparelstoday  @user  u r so special 4 us   father day',\n",
       " 'camping next weekend.   #lovecamping  #brownwood',\n",
       " \"i'm so   and #grateful now that - #affirmations \",\n",
       " 'my #forever bestie ð\\x9f\\x92\\x8b #karaoke #friends #friendship #love #nofilter #instacool #instagood  â\\x80¦ ',\n",
       " '@user absolutely love this place. fantastic welcome from carlos, receptionist. 5th time here. room request granted as usual. #318  ',\n",
       " 'headed to #thealter with my peculiar family!   ',\n",
       " ' â\\x86\\x9d #us retail sales control group likely rose 0.2% m/m in may â\\x80\\x93 danske bank   #blog #silver #gold #forex',\n",
       " 'happy fathers day. you are love of my life &amp;the best father in the world. â\\x9d¤ï¸\\x8fð\\x9f\\x98\\x98 @user #fathersday #love   ',\n",
       " ' coolestlifehack: worlds smallest snake    #motivation',\n",
       " \"this is a shockingly   and increasingly #violent #world we live in and the #uk has gun control laws. i feel for the mp's family &amp; friends\",\n",
       " '  ? #funny ? or simply so #truestory :) ',\n",
       " 'happy bihday to me!... brithday day holidays  #monday #menmodelsâ\\x80¦ ',\n",
       " 'i am saddened that no-one has thought to groom her for the position before asking her opinion on such an issue.   ',\n",
       " \"ukrainians athletes are not in grosseto for @user ... watching livestream without seeing them it's not the same...  \",\n",
       " 'new season of oitnb stas tonight ð\\x9f\\x99\\x8cð\\x9f\\x8f¼   #oitnbseason4 ð\\x9f\\x98¬ð\\x9f\\x98¬',\n",
       " ' @user excited to be on the other side of the cuain for once tonight. looking forward to seeing @user on broadwayâ\\x80¦',\n",
       " 'when quay collab with @user says sold out!!!ð\\x9f\\x98©ð\\x9f\\x98«ð\\x9f\\x98©ð\\x9f\\x98«ð\\x9f\\x98©ð\\x9f\\x98«ð\\x9f\\x98©ð\\x9f\\x98«ð\\x9f\\x98©ð\\x9f\\x98«ð\\x9f\\x98©ð\\x9f\\x98«ð\\x9f\\x98©   #noooo #whyyyy #loveyoudesi # ',\n",
       " \"i'm   to finally get my #jordans and i get #paid to #wear them too! #lowtopsâ\\x80¦ \",\n",
       " 'i am impressive. #i_am #positive #affirmation     ',\n",
       " \"  father's day to all the fathers out there out there making it happen ...... #salute to y'all ..\",\n",
       " 'our view from the 27th floor! :) #nyc #newyorkcity #myview   girl #wine #fridaynightâ\\x80¦ ',\n",
       " \"discussing republicans is the same thing as critiquing . we can't ignore the consequences.\",\n",
       " 'got school tomorrow my last integration  ',\n",
       " 'amen!! truth. always. &lt;3 &lt;3  #love     #blessed ',\n",
       " \"@user and the stamford kid got 6 months for rape.but that wasn't boredom...it was 20 minutes of action.   .\",\n",
       " 'lets colorized your life w/ rainbow #danian #love #colour #rainbow   @ depok ',\n",
       " '#aiel #aielmaharashtra rude customer care executive makes me want to switch my loyalty to another provider.   #irritated',\n",
       " 'hi teddy corpuz... #rocksteddy #band #enjoy #idol   #omg ð\\x9f\\x98\\x8dð\\x9f\\x98\\x8dð\\x9f\\x98\\x84ð\\x9f\\x98\\x84ð\\x9f\\x98\\x84ð\\x9f\\x98\\x84ð\\x9f\\x98\\x84 ',\n",
       " \"@user wow, what a great daughter you are! to send that to your father right before father's day. #cheapshot #lowblow   #shame\",\n",
       " '6 reasons to be happyâ\\x80¦when your kid is mid-tantrum    #parenting #tantrum #toddler #calm #mindfulness   #strong',\n",
       " 'i am truthful. #i_am #positive #affirmation     ',\n",
       " 'yup #siri on #macos #wwdc2016 - :) woot! next did they work on her listening skills?  ',\n",
       " '#diy done! #dresser #nicknacks #newelectricscrewdriver   @ brockely london ',\n",
       " 'are you #black &amp; feel like the  are stomping on you? â\\x80¦  #retweet #tampa #miamiâ\\x80¦ ',\n",
       " ' @user @user thats the problem, only one police officer. you need more, with bigger guns and perhaps one tank with soldiersâ\\x80¦',\n",
       " \"  father's day to all friends#\",\n",
       " \"if you're not   with your #choices this fall, you can #always write a candidate in.. â\\x80¦  \",\n",
       " '@user  #ë\\x8b¤ì\\x9d´ì\\x95\\x84_ê·¸ê¸¸ì\\x97\\x90ì\\x84\\x9c_ì\\x8a¤í\\x8a¸ë¦¬ë°\\x8d #ê·¸ê¸¸ì\\x97\\x90ì\\x84\\x9c #ì\\x97°ì\\x8aµì\\x83\\x9d   ending ',\n",
       " \"get to know the team behind the #app that's keeping our tummies   in our #june #issue @user #bazaarmagâ\\x80¦ \",\n",
       " 'actually going fishing today somewhere nice â\\x98ºï¸\\x8fð\\x9f\\x98\\x8d.  ',\n",
       " 'how cute, they both look like dolls. ',\n",
       " '@user i did and im  ',\n",
       " 'love this vacation ð\\x9f\\x98\\x8a   #enjoy #greece #crete #sabinedrift #chillinn #blondegirl #bluedressâ\\x80¦ ',\n",
       " '@user unreal 3 advisors refuse to take my payment!?? and say wait for pcn is this customer service when ur site wasnt working??  ',\n",
       " \"@user i'm #gameready for forza horizon on the pc! what a time we live in...  \",\n",
       " ' @user life better in tahiti #summer #life #no_school #tahiti   #like',\n",
       " 'i know their males but i thought they had a vagina like in video games xd #stupidthoughts #quote   #lmao',\n",
       " 'pa of the pack was taken and brainwashed by cheetahs   #downasquadmember #treeouts',\n",
       " ' â\\x86\\x9d #japan domestic corporate goods price index (yoy) in line with expectations (-4.2%) in may   #blog #silver â\\x80¦',\n",
       " 'remember the day when people on #bbuk went on to become reality tv stars, no it seems reality tv stars become big brother contestants.  ',\n",
       " '@user #allahsoil the more familiar we become the more difficult it is to stereotype. . â\\x80¦ â\\x80¦â\\x80¦ ',\n",
       " ' @user #good #morning ! if you want to live a   life, tie it to a goal, not to people or things. ',\n",
       " ' @user friday &lt;3 #fridayfeeling   #relax @user  #bristol ',\n",
       " '  days porn movie pussy pay pics  ',\n",
       " 'it looked easy till my turn  #rap #hiphop #rock #funny #comedy #pop   #kanyewest ',\n",
       " 'banner #merry #christmas and   #new #year  #freepik #ad #decoration newyear',\n",
       " '@user @user yay! thanks for letting me know. my pa will be a very happy man! :-)  ',\n",
       " 'in my exam room ð\\x9f\\x98\\xadð\\x9f\\x98\\xadð\\x9f\\x98\\xad #testing #tired #annoyed #why  ',\n",
       " 'best homeopathic remedies for #anxiety  -    #altwaystoheal   #healing #peace !! ',\n",
       " 'rest in peace christina.     ',\n",
       " 'those bamas you fool around with might be raising your child. ppl dont think that far in advance. they just see \"fun\" or whatever  ',\n",
       " 'anti racist is a codeword for antiwhite   asia for the asians  africa for the africans  white countries for everyonâ\\x80¦ ',\n",
       " '.@user on #periscope: my first god baby graduated from high school!!! #collegebound   ',\n",
       " 'nearly there folks   #nervous #curious just finalised my stuff with a few pointers from grainne #bringiton ',\n",
       " 'fellowship. ð\\x9f\\x98\\x8a #lifegroup  ',\n",
       " \"i just caught myself eating chocolate sliced bread beside the ref realizing i still didn't eat my dinner.  \",\n",
       " '@user you #praised #cleveland police during #rnc the police are under a consent decree! 75% are #white  #tamirrice #rip',\n",
       " 'best #lawofattraction #resources for #healing!    #altwaystoheal #healthy is  ! #idwp ! ',\n",
       " 'everything you need for #surfday.  #fathersday to all the #dads out there from #novyspos.#novytowel#surfgear ',\n",
       " '@user 100% agree  ',\n",
       " \" @user our next show is monday at the fiddler's elbow in camden. it's looking like it's going to be a huge night!   htâ\\x80¦\",\n",
       " \"@user no swimming signs everywhere. parent's weren't watching a 2 year old.  \",\n",
       " 'mitchellrattle mitchell goodson ',\n",
       " \" @user getting ready for saturday's jeep run with nbjc!    3 days until #showyourjeepday  #jeepmafia #jeeplife #jeep httâ\\x80¦\",\n",
       " '@user attempt at czech fury, only for croatia to score their second.   ',\n",
       " 'the latest dairy k.s!  thanks to @user @user @user #ä½\\x90é\\x87\\x8eå\\x85\\x83æ\\x98¥  ',\n",
       " ' @user yep - grateful for everyday :)))) #gratitude  #laurasworld   ',\n",
       " \"i've had the ebook for awhile but it's so nice to have the hard copy!!!   \",\n",
       " 'nba finals. game 7. what more could a basketball fan ask for?!   #nbafinals',\n",
       " \"@user that doesn't prevent you from being a  and a #bigot\",\n",
       " \"dear #uot, despite our attempts to #savecharity, i regret to announce that we've lost her!   #tragic #rip angelic friend. we will miss u!\",\n",
       " '  #space place  color #blue #fabricsourcing  or #finished #pillow #cushions  use usâ\\x80¦ ',\n",
       " 'perfect moment of the day!!!   ',\n",
       " 'waited for @user for an hour to come out just for an autograph, finally walk away...he comes out. of course! disappointing!  ',\n",
       " '  #fathersday!  gift your #dad a secured #financial #future! #save #insure #invest!   ',\n",
       " ' girls in the world sexy mature housewife ',\n",
       " \"time to get happy! it's saturday ð\\x9f\\x92\\x98    #saturday #weekend \",\n",
       " 'to my 3 awesome dads.. my almighty father (my lord) my darling dad (rip, sweethea) my husband (my babies daddy/1st son)   #fathersday',\n",
       " 'owens football tornament #football  ',\n",
       " \"come on #ee piss poor reception today Â£20 a month and struggle to get a signal in #buxton put more masts up or i'm switching   #grumpy\",\n",
       " 'excited na me ð\\x9f\\x98\\x8dð\\x9f\\x98\\x8d ',\n",
       " ' @user let #troopingthecolour begin, we are very  .  bihdayyourmajesty #thequeenat90  htâ\\x80¦',\n",
       " '#work #fusiona wolves in last stage #development   #chase @user @user now ',\n",
       " \"@user i don't like the #blacklivesmatter slogan.  talk about being .\",\n",
       " 'r.i.p little bear bear... #hamster #rip #imissyou   ',\n",
       " 'give me a hug #love my cats  moment ð\\x9f\\x98\\x8d ',\n",
       " 'your lips like fire, my blood like gasoline ð\\x9f\\x94¥ð\\x9f\\x92\\x98  #love #boyfriend #smile   ',\n",
       " \"here. we. go. let's do this people! #icrs2016  \",\n",
       " \"life isn't a race: allow yourself to be   in the present  @user #fun\",\n",
       " 'dental  testimonials from our #lichfield clients -    ',\n",
       " 'thank youð\\x9f\\x99\\x8fsoo muchð\\x9f\\x98\\x98 pretty @user i feel soo blessed &amp; lucky!!plz do keep showering ur lyks on með\\x9f\\x98\\x9d#surprised   #2likes #unexpected',\n",
       " \"@user @user @user nice 2c susanna smiling 2day,who needs false promises of flying dragons when she's got ben  \",\n",
       " '@user 1d not back yet  ',\n",
       " \"i got the call yesterday.  mom was diagnosed with stage 3 ovarian cancer.  i'm terrified, she's terrified.  just don't know what to do.  \",\n",
       " '@user #feminismiscancer #feminismisterrorism #feminismmuktbharat why  #malevote is ignored  @user',\n",
       " '@user @user @user is on the other side of history and our allies on this issue.  #embarrassing  ',\n",
       " \"fox new just coming out and saying it bluntly. one of the most  things i've read. \",\n",
       " 'good morning all !  #internationaldayofyoga2016 #yogalove #yoga   #relax #healthy #positiveâ\\x80¦ ',\n",
       " '@user monkeys are also declared as vermin. no protest from bajrang dal?   @user @user',\n",
       " ' @user new plants from @user are here and ready for the garden at gardening know how!    ',\n",
       " ' @user coldplay last night with my fave ð\\x9f\\x91«ð\\x9f\\x92\\x83ð\\x9f\\x8f»ð\\x9f\\x92\\x95 #coldplay #conce #hampden #fave #couple #cute  â\\x80¦ ',\n",
       " 'use the power of your mind to #heal your body!! -     #altwaystoheal #healthy   #peace! ',\n",
       " \"  #flagday!   here's mine in this gorgeous #texas sky!  #householdname #takingoverâ\\x80¦ \",\n",
       " \"aww yeah it's all good bing bong bing bong   \",\n",
       " '@user yes lets do this,suppoing a openly ,#prowar #anti #islamic,#homophobic,#rapist,who advocates more of same,#hypocrite',\n",
       " ' , #cat, #furry, #persiancat | #4798 | pixion - wallpapers, images, a ',\n",
       " 'good moooooorning #tgif ð\\x9f\\x92\\x8b  #kiss #kisses #friday #fridayfun   ',\n",
       " ' @user enjoy everything already given to you rather than always needing more. #blessed   #thankful ',\n",
       " '#euro2016 match schedule design - france vs romania  ! ð\\x9f\\x98\\x83  all feedback is appreciated! ',\n",
       " 'for fathers day too should take your dad to @user for the 2 for $20 he will love it   ',\n",
       " 'berlin before and after.  thank you so much @user - that was incredible. #theriveourberlin #theboss   ',\n",
       " 'why listen incubus never hus! ð\\x9f\\x98\\x9cð\\x9f\\x99\\x8c #nowplaying #sick   #little #world - nissan #live #set de @user â\\x99« ',\n",
       " '@user anderson cooper &amp; don lemon will not like gays being thrown off buildings by sharia. #2ndamendment  ',\n",
       " 'bei is   on a field for dog-walking.  #dogs ',\n",
       " 'who would steal awork from @user #boohiss  ',\n",
       " 'competing for a listing today!   #whenrealtorscompeteyouwin #callme #gotheextramileâ\\x80¦ ',\n",
       " '@user great park but a totally disorganised one!!! #poaventura #whatajoke  ',\n",
       " \"i've got news for you, bernie wasn't winning dc even if the vote was held last month. #dcvotes \",\n",
       " ' â\\x86\\x9d #eur/usd printing new monthly tops above 1.1400, draghi eyed   #blog #silver #gold #forex',\n",
       " \"our two presidential candidates, everybody. this is what we've devolved into. #elections2016 #america   #smh #usa \",\n",
       " 'poor pup. #animals #puppy #vine #magic   #subscribe #youtube (vine by @user ',\n",
       " 'rare pic of superstar @user with @user    bihday sivakoratala  :) ',\n",
       " '@user and @user how is it 2016 and i am moving just outside of downtown gr mi and neither of you offer better than 6 mbps.  ',\n",
       " ' @user wishing all the dadâ\\x80\\x99s a happy fatherâ\\x80\\x99s day! #dads #fathersday #2016 #intellicred   ',\n",
       " \"met this girl 5 yrs ago online b-ng gay friend. y does she look like this when she didn't b4?  @user \",\n",
       " 'that face says it all!  #pwcproud  ',\n",
       " '| b u s y |    #love #instagood @user #tbt #cute #me #beautiful #followme  â\\x80¦ ',\n",
       " 'enjoy this weekend with your family at your home. happy weekend my dear friends :)   #weekend #family #home... ',\n",
       " 'another senseless tragedy.    #tragic #pulse #orlandostaystrong #thoughtsandprayersâ\\x80¦ ',\n",
       " ' @user loving #yrkkh frm the bottom of my hea frm the day it stared.. &amp; what do v get in return.. #uglyspat @user @user',\n",
       " 'captain felix at rutland water. the little boat behind is about to go on a very grand adventure....  ',\n",
       " 'binge watching series 1 of #thekilling so as to completely avoid football.  ',\n",
       " 'to quote jeremy corbyn: \"here we, here we, here we fucking go!\"   ',\n",
       " 'happyð\\x9f\\x92\\x99 #travel#time #instamood  #moments #love#mylife #russian#girl #model #4likeâ\\x80¦ ',\n",
       " ' porn vids wwwsmallgirlsexcom',\n",
       " ' @user #tuesday #jackie #quote #taketime to do what makes your #soul   #enjoylife #smile #believe #dream #havefun ',\n",
       " 'home sweet home is what i call #edinburgh since moving there years ago! #scotland #homesweethome   #family  ',\n",
       " 'play england vs russia in marseille at 21:00??? what did they expect? high risk game and plenty of time to drink...  ',\n",
       " \"aww yeah it's all good bing bong bing bong   \",\n",
       " 'i am thankful for sweater weather. #thankful #positive     ',\n",
       " 'haunting atmospherics #studiotime   ',\n",
       " '@user @user become a fan does not give the right to criticize the personal life of an idol.  ',\n",
       " 'the latest obsidian radio daily!  thanks to @user @user @user  #latesnews',\n",
       " 'mind-blown; learning so much in this google forms workshop.   @user #cfisdrrr',\n",
       " ' @user so sexy #prettypussy #sexybbw #realmvp ',\n",
       " ' @user back to @user after a v traumatic few months. damage not as bad as thought, proof the plan works! onwards &amp; upwards ð\\x9f\\x98\\x8a #excitâ\\x80¦',\n",
       " 'you might be a libtard if... #libtard  #sjw #liberal #politics ',\n",
       " ' just more overwhelming evidence that the company #trump keeps echoes his sentiments &amp; ideals #dumptrump ',\n",
       " \" @user most of y'all females beefed out over these community dick ass niggas ,   ð\\x9f\\x92¯ð\\x9f\\x98\\xad\",\n",
       " \"people be like you already forgot so and so.... nah it's not that it's just new names are made a hashtag on a weekly basis  \",\n",
       " 'how to be   ?!.i have the answer ð\\x9f\\x98\\x8að\\x9f\\x98\\x81',\n",
       " 'cherry color is symbol of warm and positive energy necklace price: 200 aed #stones #gift #amazing #beautiful   ',\n",
       " \"i can't wait for the 2016/17 season to begin!   #lfc #ynwa #englishpremierleague \",\n",
       " \" @user happy father's day to all dads except #rogergoodell! #fathersday   #goodellsucksâ\\x80¦ \",\n",
       " ' â\\x86\\x9d #orb independent brexit poll shows leave vote ahead, gbp/usd slumps   #blog #silver #gold #forex',\n",
       " ' @user @user @user 25mm + 16mm = no washout no flooding good take and all set for another days golf   ',\n",
       " \"@user ya ever since zayne left they've never been the same  \",\n",
       " \"happy father's day â\\x80¼ï¸\\x8fâ\\x9d¤ï¸\\x8f  #loveyou #fathersday   #sunday #father #daddy dayâ\\x80¦ \",\n",
       " 'big shock on monday-needed to find new home. yeah! found my dream cottage on tuesday  ',\n",
       " 'save thousands $$ free search x logins x brokers    #actor #seeklearning   #stafresh ',\n",
       " 'actually ordered a kylie lip kit  ',\n",
       " 'i hope the family made arrangements to make sure that #bastard @user  canâ\\x80\\x99t get access.      ',\n",
       " 'ð\\x9f\\x98\\x94   #socialmedia us firm to build 6 nuclear reactors in india  ',\n",
       " '#smaphone   bull up: you will dominate your bull and you will direct it whatever you want it to do. when y ',\n",
       " '#lifeisbeautiful #loveit #workhard #trainhard no matter where you go!   #blessed #fitlifeâ\\x80¦ ',\n",
       " 'oscar tabarez talks luis suarezâ\\x80\\x99s angry reactionâ\\x80¦  #spos   #during #luis #oscar ',\n",
       " 'now playing on #njoyhit40 #1hitmusicstation us uk eur @user   join us on  #nice #nyc @user',\n",
       " \" @user only 2 weeks to go and i'm a #personaltrainer full time   i will have new slots available from 30 june - pls spread tâ\\x80¦\",\n",
       " \"a mother can take care of ten children's but sometime ten children cant take care of their mother ,,,    \",\n",
       " 'i am thankful for good nightsâ\\x80\\x99 sleep. #thankful #positive     ',\n",
       " 'now playing  :  the bride - \"  nocturne\" on    #melancholy   #melancholymusic',\n",
       " '#tvk3fathersday   fathers day to all tatay daddy enjoy wathing tha voice kids',\n",
       " 'i am thankful for my friends. #thankful #positive     ',\n",
       " 'i am thankful for mason jars. #thankful #positive     ',\n",
       " '\"nigger?\" #lifelessons of a white kid who grew up in the 60\\'s. #blogpost  #whitepeople #respectâ\\x80¦ ',\n",
       " '@user @user @user congrats!   for @user',\n",
       " 'via jts88: @user ó¾\\x8c§ #love #sinkthepink #music #instagay #celebspot  ... ',\n",
       " '@user ready for @user at #ccmf2016 !!   #mychurch #frontrow #upshow ',\n",
       " 'how utterly  :  people with incurable #stupidity in #africa albino killings in malawi spark education campaign ',\n",
       " ' â\\x86\\x9d #gold off highs, back around $1,260   #blog #silver #gold #forex',\n",
       " 'shocking events in orlando - now will the usa review their gun laws or do more innocents have to die first? #horrific #unforgiveable   :(',\n",
       " 'i am knowledgeable. #i_am #positive #affirmation     ',\n",
       " 'with le sister! #instatraveling #instamoment #igdaily #instagramhub #instagood #instalike   ',\n",
       " '..feeling so #lonely..and  ..',\n",
       " '#girliguessimwithher tag is the saddest representation of how people feel they are now forced to vote for \"her\"   ',\n",
       " 'the h factor! does your #mobile app make the user  ? want more factors? click to download aricent #whitepaper ',\n",
       " '@user meanwhile google violates free-speech at will  ',\n",
       " 'happy at work conference: right /mindset leads to culture-of-development organizations    #work #mindset',\n",
       " \" @user #rochester   attack bull chase: when you leave the lot despite the fact that you're a strong source of f \",\n",
       " \"i'm in the @user competition!!! ð\\x9f\\x8e\\x89ð\\x9f\\x8eµð\\x9f\\x8e\\x89ð\\x9f\\x8e¤ð\\x9f\\x99\\x8cð\\x9f\\x8f¾â\\x9c\\x8cð\\x9f\\x8f¾ï¸\\x8f  \",\n",
       " '#tattoosleeves   gorilla simulator: you need to do to adapt to the environment. the need to tear the city. m ',\n",
       " 'ima go cry for a few hours brb  ',\n",
       " 'i #tell my sorrow to the #river so that the river taught me how to flow without the #complain -sepatu dahlan-   #philosophy #proverb',\n",
       " 'i am thankful for memories. #thankful #positive     ',\n",
       " '@user you surely are a nasty piece of work! lmao.  ',\n",
       " 'today is a perfect day to be  ! #happiness #lifecoach #reinventimpossible ',\n",
       " '  after sex over 40 sex nake women  ',\n",
       " 'i am thankful for cocktails. #thankful #positive     ',\n",
       " 'dont wait #outside #thepeel 4 #work #homophobic #taxi #driver #guys #kiss there #gay #melbourne #13cabs     ',\n",
       " \"@user guess no one wanted to let the residents of spring street know they wouldn't be able to leave for a few hours today.  \",\n",
       " 'great morning deborahð\\x9f\\x8c»ð\\x9f\\x8c».@user #smiles and #kindness ð\\x9f\\x92\\x96  day!ð\\x9f\\x98\\x80ð\\x9f\\x91\\x8b',\n",
       " '_  #windows10 split screen #browser! #customcasetab     #noedit  712',\n",
       " \" @user people use tragedy like this to fuel their hate agenda towards entire groups of people and that's the opposite of helpfulâ\\x80¦\",\n",
       " 'taeyeon unnie is on fire! ð\\x9f\\x92\\x93 btw i really hope that her album cover is not yellow lol   #why ',\n",
       " 'john mica...how the hell are people like you elected @user @user #totalpolitician #outoftouch #disgraceful  ð\\x9f\\x98\\x93',\n",
       " 'nothing makes dad happier than a tasty meal!   #fathersday ',\n",
       " 'the   #truth about #suicide rates in young #blackboys ',\n",
       " 'happy sunday #homesweethome #amazing #love #istanbul #girl #beautiful   #instalike #meâ\\x80¦ ',\n",
       " 'oh she blocked me.   at least i have love island to look forward to on sunday :)',\n",
       " 'now playing  :  suzanne ciani - \" 4 o\\'clock in the morning\" on     music song ',\n",
       " 'swing ð\\x9f\\x98\\x8aâ\\x9d¤ï¸\\x8fð\\x9f\\x91¶ #swing #mybabygirl #baby #littlegirl #park #love #cute   ',\n",
       " 'help! bubble attack! #winter #bathtime   #cozy ',\n",
       " 'i am moving. #i_am #positive #affirmation     ',\n",
       " 'the thing is, no matter how many laws and regulations there are with guns, people will still find a way to get their hands on them.  ',\n",
       " ' @user   #sunflowers - #nature #garden #photograpy quality prints &amp; cards at: ',\n",
       " '@user didnt stay for long had an emergency at home  my daughter was not well soo i had to rush home and i missed ur set  ',\n",
       " ' @user great insights on trusted professions in emea at #growth #hacking #conference at #growthwithhubspot.  ',\n",
       " 'carolyn cooper | ugly, poor, ignorant and black!  ',\n",
       " 'franklin is a   #dog in the #sunshine #dogsoftwitter ',\n",
       " 'perfect day= buy real furniture, hiking, @user for dinner, @user for desse!ð\\x9f\\x8e\\x89ð\\x9f\\x98\\x8að\\x9f\\x91\\x8d #sleepnumber #bonustolongrest #dnd  ',\n",
       " 'happy face lovely smile @user #satisfying #hair #workit #smile   #faceâ\\x80¦ ',\n",
       " 'ð\\x9f\\x92\\x97ð\\x9f\\x92\\x97ð\\x9f\\x92\\x97 love you. ð\\x9f\\x92\\x97ð\\x9f\\x92\\x97ð\\x9f\\x92\\x97 . #sunday #weekend #selfie #longhair #girl #selfporait   #loveâ\\x80¦ ',\n",
       " '#nature_perfection   bull hill climb: you have to reach the target to complete the task to survive. with str ',\n",
       " '#model   i love u take with u all the time in urð\\x9f\\x93±!!! ð\\x9f\\x98\\x99ð\\x9f\\x98\\x8eð\\x9f\\x91\\x84ð\\x9f\\x91\\x85ð\\x9f\\x92¦ð\\x9f\\x92¦ð\\x9f\\x92¦  ',\n",
       " 'orlando gay men angry they can&amp;#039;t donate blood after massacre -    ',\n",
       " ' @user  golinglobal \" golinuntern: fresh air, trail running, and a   soul. keeping the #golinuntern life balanceâ\\x80¦ ',\n",
       " ' @user @user monroe&amp;nick best friends, &amp; rosalee&amp;addie and now kelly&amp;babymonrosale #grimm   families #nadalind',\n",
       " '@user or lying hillary would call it a \"security inquiry\" liberals are like minded if one eats shit then all of them eat shit.  ',\n",
       " 'you know what i find incredibly #disrespectful!?  taking a personal call during a meeting.    #frustrated ð\\x9f\\x98\\xa0 ',\n",
       " \"date night #friday #pub   #ilovehim #instagay #beer @ billy's on burnet \",\n",
       " \"i wish @user would make their phones so the damn screens don't shatter they cost an arm and a leg and still gotta pay to fix em  \",\n",
       " 'this is so hea wrenching! what would be the state of the mother, when she knows her son is about to die :(    ',\n",
       " ' @user how times fly! less than a week to go until the brilliant @user leads our summer conference   ',\n",
       " 'fruit time   #fruit #desse #instamoment #photooftheday #yvr #sweet #vancitybuzzâ\\x80¦ ',\n",
       " ' so sad ones  &gt;&gt;&gt; ',\n",
       " 'sirf ashiq log follow karen #iqbal #galib #wasi #faraz #mohsin ki full   poetry + #no add + follow @user',\n",
       " ' @user 28 minutes to go #armaanamaalontkss @user @user @user  ',\n",
       " 'thank god for the #royals of 2015 because without it kansas city is right down there with #cleveland  #disgraced  ',\n",
       " 'will get to see my favorite person tmrrw    ',\n",
       " '#latina   buffalo simulation: buffalo for you to take in the vicinity of their homes to do. in this way, you ',\n",
       " 'what a world we live in.. #orlando  ',\n",
       " ' @user now the vacation has begun...   #triathlete #triathlon #coach #vacation #fearless #rulâ\\x80¦  httâ\\x80¦',\n",
       " '@user a bit of heabreak too! #reflective  ',\n",
       " ' @user peaceful way to sta the morning before the daily chaos beginsð\\x9f\\x98\\x8a #gratitude   ',\n",
       " 'hardcore girls videos   birday sex xxx   ',\n",
       " '#takalot book order arrives in time for a long weekend away in the bush.   #bengreenfield ',\n",
       " '#saysomething   bull up: you will dominate your bull and you will direct it whatever you want it to do. when ',\n",
       " \"steph. san kana?? your 3's are badly needed. please ð\\x9f\\x99\\x8fð\\x9f\\x99\\x8fð\\x9f\\x99\\x8f \",\n",
       " ' @user another hands &amp; feet complete!! berachah you are the best !!  &amp;tired ',\n",
       " '@user on my way over ctf to have a book talk with the inmates paicipating in the @user book club program #slugg  ',\n",
       " 'ready for thisâ\\x9d\\x93 #awesome #beat #cool #dj #dance #edm #house #goodmusic   #madnessâ\\x80¦ ',\n",
       " ' â\\x86\\x9d #jpy: negative external environment remains suppoive â\\x80\\x93 mufg   #blog #silver #gold #forex',\n",
       " '$24.99-mkf collection jasmine and moira crossbody bags    wednesday',\n",
       " \"currently out to eat at #steakandshake and i've been here for 20 minutes and not gotten the shake i ordered #not  .\",\n",
       " 'gray is a very sad color it makes me feel   #grayneedstogo',\n",
       " 'difficult roads often lead to beautiful destinations. anon #leadership #inspiration  #quote #inspirational  ',\n",
       " ' â\\x86\\x9d #usd long positions added, eur shos increased - anz   #blog #silver #gold #forex',\n",
       " \"it's #r1rockalldayer on @user for me it's @user day!   #noise\",\n",
       " '@user no, he was definitely a  mexican. #fakenewsale',\n",
       " '@user when is the new album being released about @user and your break up?   #loveherbreakups #hotgoss',\n",
       " 'standing up to racism and hate by americad not curse out congress and all haters  who are deplorable  #hateâ\\x80¦ ',\n",
       " 'you are my â\\x98\\x80#sunshine, my only â\\x98\\x80#sunshine. you make me ð\\x9f\\x92\\x9e  when skies are â\\x98\\x81gray. ',\n",
       " 'something i wanted to say, something that makes me happy . #gaming #gamer #xboxone #playstation @user #e32016   ',\n",
       " \"the football is actually the only thing on at mo that's watchable!! #bringbackgladiators!\",\n",
       " 'happy hump day ð\\x9f\\x91\\x8cð\\x9f\\x8e\\x8að\\x9f\\x8e\\x89 #humpday   #life #lifestyle #wednesday #midweek #snapchat #walrus #funnyâ\\x80¦ ',\n",
       " 'let me just say .. i love being me  ',\n",
       " \"don't worry, be happy  via @user #archiveday #weekendblogshare #happiness   #quotes #tshis\",\n",
       " 'because great things never came from comfo zones... #goodtogreat #inspireme #love   ',\n",
       " 'happy puppy ð\\x9f\\x90¶ð\\x9f\\x92\\x95 #london   #puppy #thursdaymotivation ',\n",
       " \"i don't know where you're going but do you have a room for one more troubled soul? #a #drawing #blackandwhite   \",\n",
       " 'we recommend these dark &amp;   #romances:  | #horror #moviegenres #ambiance',\n",
       " '@user #trump used #hate,  and #putin to win the white house #trump presses attack on khan family and g.o.p. leaders ',\n",
       " \"one of my bucket list items ticked tonight i finally saw ice cube live tonight ð\\x9f\\x98\\x81  ! #wildlifefestival  'today was a good day' ð\\x9f\\x98\\x9d\",\n",
       " 'my friends magical potion... #ewabeach #magicalhappydrinks   @ ewa beach house ',\n",
       " 'everytime i wear soccer shis joie fries me and says i look mexican as fuck ð\\x9f\\x98\\x92 ',\n",
       " \"it's been a weird few months but finally feeling more positive about life lately   #pleasedontchange ð\\x9f\\x98\\x81\",\n",
       " 'checked in #holiday     #croatia #13daystogo',\n",
       " '@user   night a sweet dreams..',\n",
       " 'nyc in seven days ð\\x9f\\x97½ #newyork #newyorkcity #travel #bigapple   ',\n",
       " 'life is what you make it. letâ\\x80\\x99s make it  ! #motivation ',\n",
       " '#fashionblog   rooster simulation: i want to climb the vast expanse of mountains. it reached the leakage coc ',\n",
       " 'in the best mood ever!!!   #becauseofhim #inlove ',\n",
       " \"be happy don't worry! ð\\x9f\\x98\\x89   #smile #love #iminlove #iam #im #in #nice #day \",\n",
       " ' @user #monaco#resto#chezedgard#grandprixf1# #essais#sun#lewissuppo#ð\\x9f\\x8f\\x8eð\\x9f\\x8f\\x8e# @user #amour #love   â\\x9d¤ï¸\\x8f ',\n",
       " \"just bought: 'launch: using design thinking...by @user &amp; @user via @user -   #toread #letsmake \",\n",
       " '#sukhbir #badal announces more office-bearers of   #eastcoast zone #canada  ',\n",
       " 'so mad that i chose dj snake over zedd at edc  ',\n",
       " 'mango wood lett... gbp 19.99 get here:  #shop #cool   #home #fun ',\n",
       " 'the danger of white liberalism to oveurning  (applies to liberal men and feminism too)  ',\n",
       " ' @user @user @user truly truly pathetic in so many ways @user @user @user nothing learned from the coverinâ\\x80¦',\n",
       " 'monday mornings working by the lake #scottieandrussell #work #love   #picofthedayâ\\x80¦ ',\n",
       " \"i'm loving this rain! hope it hangs around a while ð\\x9f\\x98\\x8a #rain #water #tbt #me #weather #bribieisland   \",\n",
       " '@user you have chosen the wrong horse and unless you change your mind soon, it will be the end of your political career.  ',\n",
       " ' @user weddings are impoant because they celebrate life and possibility. â\\x80\\x94anne hathaway #wedding   #love ',\n",
       " '#icymi: shooting at orlando nightclub kills about 20, police say  #debeloping   #guns ',\n",
       " '@user @user snatched some of these this past week!   #schoolsupplies',\n",
       " 'great aicle. right on the money! #starspangledbanner #slavery #apaheid  #usa ',\n",
       " 'babies was born. welcome to new world cats! #babiescat #cat #newborn #congratulations  â\\x80¦ ',\n",
       " \"ð\\x9f\\x91\\x89ð\\x9f\\x8f»#pretending#to#be #when #you're#in#pain#is#just#an#example #of#how#strong#you#are#as#a #personð\\x9f\\x91\\x88ð\\x9f\\x8f» ð\\x9f\\x98\\x8að\\x9f\\x92ªð\\x9f\\x8f»ð\\x9f\\x92ªð\\x9f\\x8f»ð\\x9f\\x92ªð\\x9f\\x8f» #nightyð\\x9f\\x98´\",\n",
       " ' @user @user @user @user @user   evening my dear cutysð\\x9f\\x98\\x8dð\\x9f\\x98\\x8dð\\x9f\\x98\\x8dð\\x9f\\x98\\x8dð\\x9f\\x98\\x8dð\\x9f\\x98\\x8dð\\x9f\\x98\\x9að\\x9f\\x98\\x9að\\x9f\\x98\\x9að\\x9f\\x98\\x9að\\x9f\\x98\\x9að\\x9f\\x98\\x9að\\x9f\\x98\\x9að\\x9f\\x98\\x9að\\x9f\\x92\\x9fð\\x9f\\x92\\x9fð\\x9f\\x92\\x9fð\\x9f\\x92\\x9fð\\x9f\\x92\\x9fð\\x9f\\x91\\x8dð\\x9f\\x91\\x8dð\\x9f\\x91\\x8dð\\x9f\\x91\\x8d ',\n",
       " '@user @user its all about me mentality of our culture   #mentalhealth',\n",
       " ' @user wishing all of us a very   #weekend ð\\x9f\\x98\\x98ð\\x9f\\x92\\x95 ',\n",
       " 'i am thankful for freezers. #thankful #positive     ',\n",
       " ' @user ready for &lt;a&gt; full day of &lt;html&gt;, from @user to @user   #cssday',\n",
       " 'bihday cake i made for my mom!   #bihday #mom #fondant #pumpkin #chocolate #delicious #beautiful #amazing ',\n",
       " '@user thank you!! the power of #social #media!   @user #aande ',\n",
       " ' @user this made me smileâ\\x98ºï¸\\x8fð\\x9f\\x99\\x86 #bigbang   #babies   cto ',\n",
       " 'sending good vibes your way! happy friday! #tgifriday #goodvibesonly #becauseimhappy   #smilemore ',\n",
       " \"#letsgo #agents #tooeasy 10 more days till #dlc i know i'm   . #gamingforeveryone \",\n",
       " 'holy city#tissues !',\n",
       " '@user how old is your mom  bihday ð\\x9f\\x98\\x83',\n",
       " ' @user what did you decide?   #fowoh #goldenretriever #lcck9comfodog #workingdog ',\n",
       " '@user gets him angry.  a muslim assassinating 50 not so much.    ',\n",
       " 'ð\\x9f\\x92«we out hereeeee ð\\x9f\\x94¥ð\\x9f\\x8e\\x89ð\\x9f\\x92\\x83ð\\x9f\\x8f»ð\\x9f\\x8e¶ @user ericprydz #edc #music #musiclife #edm #dance   #girlsâ\\x80¦ ',\n",
       " '#funny thing about #humankind... we watch the #news, feel   #bad etc then back to \"open for business as usual! not #good re the #future!',\n",
       " \"@user and you keep telling that only aryans are allowed to rape women! you're just a  troll! #eod @user @user\",\n",
       " \" @user speechless when it comes to all the shootings recently. i guess people have nothing to lose and don't have any respectâ\\x80¦\",\n",
       " ' @user as forecasted, the beautiful waves of raalhugandu has disappeared due to construction of the bridge.&amp; theres no hope of it comâ\\x80¦',\n",
       " '@user any minute #trump will condemn the  #vile #bigoted comments of #his #surrogate #carlpaladino #endhateâ\\x80¦ ',\n",
       " \"#wishing all wonderful #dads a   #father's #day..let's #rock today at red rascalsâ\\x80¦ \",\n",
       " '@user #allahsoil vps got multi-million dollar bonuses while average americans lost their homes.  â\\x80¦â\\x80¦ ',\n",
       " 'i love #abrahamhicks and #lawofattraction !!   #healthy #healing   #joytrain !!    ',\n",
       " '#model   i love u take with u all the time in urð\\x9f\\x93±!!! ð\\x9f\\x98\\x99ð\\x9f\\x98\\x8eð\\x9f\\x91\\x84ð\\x9f\\x91\\x85ð\\x9f\\x92¦ð\\x9f\\x92¦ð\\x9f\\x92¦  ',\n",
       " 'signed up for my first bikram yoga classâ\\x98ºï¸\\x8f  ',\n",
       " 'think   thoughts and they will shine from your face like sun beams. quote #smile ',\n",
       " 'if you want creative workers, give them enough time to play.   #success #quote  ',\n",
       " 'my hea prayers are with the orlando victims, their families and the lgbt community.  ',\n",
       " '25 jan. interested in how #discrimination and  has affected the criminal justice system? ',\n",
       " 'friends forever ð\\x9f\\x92\\x97ð\\x9f\\x92\\x97 #friends#sweden#reunion #grateful#love @ egna hem ',\n",
       " 'keep up the opposition to  @user #endthenation',\n",
       " 'ð\\x9f\\x8d\\x95ð\\x9f\\x8d\\x95ð\\x9f\\x8d\\x95 love pizzaâ\\x9d¤ï¸\\x8f #pizzaslice#pizzaslice2#aoyama#pizza#yummy#delicias #goodtimeswithgoâ\\x80¦  ',\n",
       " 'my two loves #beer #craftbeee #dog #malinoislovers #malinois #passion   #friend ',\n",
       " 'i am abundant. #i_am #positive #affirmation     ',\n",
       " ' fathersday  #fatherÃ¢Â\\x80Â\\x99s #day, #dad #| #skinny #and #single buy things about \"hâ\\x80¦  ',\n",
       " '@user rickity..rick.. rickity...rick.. as the same ole broken down wagon is  looking to find the next mateen to jump on board.  ',\n",
       " 'love this city, great day in #cleveland! #home   #calm â\\x9d¤ï¸\\x8f ',\n",
       " 'i guess @user is talking about progress in the advancement of , #misogyny, #homophobia, #bigotry',\n",
       " 'teen girl killed, 3 others injured in downtown oakland shooting. #guns #mentalillness #gangs ð\\x9f\\x87¨ð\\x9f\\x87¦ð\\x9f\\x87¨ð\\x9f\\x87¦ð\\x9f\\x87¨ð\\x9f\\x87¦ is   #orlando ',\n",
       " '\"to everyone going through any struggle or pain right now, keep your head up, and keep on smiling, you\\'ll get through it.\" i hope so  ',\n",
       " 'good evening my darling instagram babies.   #blessed #lipstick #makeup #fun #grateful #share ',\n",
       " '@user jake is right, 2 many ppl lack the will power to take a stand &amp; drown the small minded &amp; oft evil tendencies of past ',\n",
       " 'i really hate hipocrit politicians which is just about all on all sides... we deserve better as citizens. ..  ',\n",
       " ' @user .@user @user where is environmental wellbeing?  the \"plan\" is only about sites - nothng todo  with wâ\\x80¦',\n",
       " '  bihday sway  bihday sway bihdayé\\x87\\x8eæ\\x9b¿æ\\x84\\x81å¹³  bihdayé\\x87\\x8eæ\\x9b¿æ\\x84\\x81å¹³ ',\n",
       " '  #saturday #morning, now go back to sleep. #thetrust #comusic #indie â\\x99«  faded away -  johnmaun. listen @user ',\n",
       " 'i was founate to have this man in my life every single day.   #father #day to all. ',\n",
       " \"@user @user gutted didn't know that you were here tonight i would have been there #good luck  \",\n",
       " 'beginning to think @user is a tom brady hater, the way he goes on about the man!  ',\n",
       " 'the attack in #orlando has caused a lot of pain to many people. #vengeance is not an option. we are all very  , lets comfo each other',\n",
       " 'cuteness overloaded ð\\x9f\\x92\\x9c let your life fills with love and sweetness ð\\x9f\\x98\\x8dð\\x9f\\x98\\x98 #live_long   married life ',\n",
       " 'heading to #graduation @user   #mechtechplumbing #futureplumber #proudmama ð\\x9f\\x98\\x82 ',\n",
       " '@user .@user is it possible for you to speak in any topic without bringing race into it, you bigot? @user  â\\x80¦',\n",
       " '#model   i love u take with u all the time in urð\\x9f\\x93±!!! ð\\x9f\\x98\\x99ð\\x9f\\x98\\x8eð\\x9f\\x91\\x84ð\\x9f\\x91\\x85ð\\x9f\\x92¦ð\\x9f\\x92¦ð\\x9f\\x92¦  ',\n",
       " 'ours, too. so much terribly   news over the weekend! #orlando #christinagrimmie #prayers  ',\n",
       " 'do more of what makes you  .  #innovative_nous',\n",
       " '[1465876849.66] update @  #social #analytics #instalike #tbt #yoga   #summer #fun ',\n",
       " '#rushlimbaugh does his incredibly  obama impression.  via @user',\n",
       " '@user @user we, the people, are failing our fellow citizens.       ',\n",
       " 'staing to pack for my move! ð\\x9f\\x99\\x8cð\\x9f\\x8f½ð\\x9f\\x8f¡ð\\x9f\\x98\\x84   #newflat',\n",
       " 'he is my first love. i may not be his, but he makes me feel like i am. #love #cheese #shotermlongdistance  ',\n",
       " \"@user just youtu bed them two and they don't get on now   #friendship\",\n",
       " 'if you want to be  , be kind to the #poor; it is a #sin to despise anyone.  #jesus #faith #believe #wisdom',\n",
       " \"have a nice life. i'm done trying to be in it.   #lovequotes\",\n",
       " 'the latest positivementalattitude!  thanks to @user @user @user #positive  ',\n",
       " 'you want to spark a serious debate about gun violence release the photos of the bodies inside the club. #orlandoshooting #gunviolence  ',\n",
       " 'just arrived in blagoevgrad fo #zaz conce feeling   under the #umbrelas ',\n",
       " '.@user a number of our leaders are coming  ',\n",
       " 'so   to see @user at #tcashowroom yesterday ð\\x9f\\x98\\x99ð\\x9f\\x91\\x8c ',\n",
       " \"@user isn't mean to me so that means he doesn't like me ð\\x9f\\x98\\x95  \",\n",
       " 'great way to spend a saturday ð\\x9f\\x98\\x8e #relaxation #positivevibes #california   #cakesbytheocean ',\n",
       " ' â\\x86\\x9d #eur/usd could test 1.16 near-term â\\x80\\x93 westpac   #blog #silver #gold #forex',\n",
       " \"he has no money. campaign asking for $100k donations by midnight to fight hrc's ad buy.   #brokedonald #lyindon \",\n",
       " 'today calls for champagne ð\\x9f\\x8d¾ð\\x9f\\x8d¾ð\\x9f\\x8d¾ #friday #fridayfeeling #friyay #goodweek   #clients #hairâ\\x80¦ ',\n",
       " '@user @user @user rightly so! gop hates trump more than obama  ',\n",
       " '@user @user @user @user @user @user @user @user   sunday hugs',\n",
       " 'just the 2 of usâ\\x9d£â\\x9d£â\\x9d£â\\x9d£â\\x9d£â\\x9d£â\\x9d£ #me #selfie #myfriend #loveher #giannena   #smile #thecomeback ',\n",
       " \"in that moment, she decided she needed more. a switch to control life's response. default.   \",\n",
       " 'now playing  :  yiruma - \" kiss the rain\" on     music song ',\n",
       " 'so simple, but so true. becoming all we are capable of being!    #burnsurvivor #dolbf #motivation #motivate ',\n",
       " 'back...who missed me?....#greatfultogod #beendoinggreat    #selfie ',\n",
       " 'do not! i repeat, do not put a dog in a hot car and leave them there in the heat! keep them home! for fucks sake!   #dogs',\n",
       " 'what a splendid #nosie,   me, probably not this #year #wrc #rallypoland @user @user ',\n",
       " '2 hours to go until our music video is released! #music   #edinburgh #scotland #band @user #musicvideo #a @user',\n",
       " '@user he is confirmed dead...according to farrah gray   #pulseshooting',\n",
       " 'look at journeys left and right foot stage ð\\x9f\\x94¥ð\\x9f\\x94¥ð\\x9f\\x94¥ð\\x9f\\x94¥ð\\x9f\\x94¥  !!!!!! ',\n",
       " 'black professor makes assumptions about an entire race whilst speaking for entire race. next week the jews!â\\x80¦ ',\n",
       " 'back to music\"now playing michael jackson(the lost children)   unificationsday\"and may god all the children &amp; their families#33!smile',\n",
       " '#drakeandjosh   buffalo simulation: buffalo for you to take in the vicinity of their homes to do. in this wa ',\n",
       " '#trumpusa when they call us   #homophobic #misogynist they are really saying they are jealous of us wâ\\x80¦ ',\n",
       " '@user i think you should suspend indefininetly that racist staff ',\n",
       " '*she sat alone and let out a sad sigh* #openrp   #bored',\n",
       " \"good morning #manchester a quick preview of a new #gin that we'll be launching very soon!   about this one! \",\n",
       " \"tried on the new @user #trailn2v3 today! although they feel very similar to v2's, the v3's are smoother and feel great!  \",\n",
       " 'kiki felt ignored today @user make kiki dance again #kikidance #miabbook    ',\n",
       " ' @user the source of #inspiration my ideal #my #lyf my #baba ....  fathers days!!!',\n",
       " ' @user congrats to the thomas on your new #beautiful home in tehaleh! welcome to the lennar family!   #homeowner ',\n",
       " 'i miss the days when my friends played xbox :(  ',\n",
       " 'new case and scraggly hair.  ! ',\n",
       " \"@user loving our dincwear! mum's da word @user for straight up '16 on saturday   #brickingit\",\n",
       " '  bihday sexy girl girls on top of boys naked  ',\n",
       " \"@user he's the only one where the majority of fans like him, salty gsw fans just needed someone to be   about\",\n",
       " '@user changing on a daily basis!-14weeks until handover!!   @user network team in soon then av! ',\n",
       " '@user when is this coming to singapore!  ',\n",
       " 'sma baby socks gbp 19.00 get here:  #shop #cool   #home #fun ',\n",
       " 'i liked a @user video from @user  #sjw retard wants more !',\n",
       " ' @user so woh the wait! @user #doubledown my wife @user is   @user #veganbeerfest #vegan ',\n",
       " '@user lmfao deadass?? ð\\x9f\\x98¹  ',\n",
       " 'what an amazing interview.   #bjmckenzie #born2win #bjmuzic ',\n",
       " 'boasty tuesday last night boom boom and harry hype say get   ',\n",
       " '  bihday balayya even at that age mass look,craze in fans,on screen romance..he is a legend #jaibalayya',\n",
       " 'woohoo   #kingslanding #highlandreserve #house #family #building #ourhomeâ\\x80¦ ',\n",
       " 'outlining my themes for my would-be poems haha  ',\n",
       " '#decors   buffalo simulation: buffalo for you to take in the vicinity of their homes to do. in this way, you ',\n",
       " 'sold! one of two paintings that are going to get a beautiful new home this week.   #soldâ\\x80¦ ',\n",
       " '@user msg of #hope for #newyear: a business to end . #endof2016 #tedtalks #tedatibm @user  @user',\n",
       " ':( why does @user slag off children? i love your show but......really?  @user  ',\n",
       " \"safe to say i'm missing #marbs sitting at home on your own watching #euro2016 listening to the rain is #depressing #bringbackhappiness  \",\n",
       " 'they have been brainwashed by the left who is allowing these terrorist to come into america to kill them. ',\n",
       " 'gd morning ð\\x9f\\x98\\x8dð\\x9f\\x98\\x8dð\\x9f\\x98\\x98ð\\x9f\\x98\\x98 #gdragon #gd #kwonjiyong #jiyong #vip #bigbang #handsome #cute   #loveâ\\x80¦ ',\n",
       " '  friendszxc ð\\x9f\\x92\\x9c ð\\x9f\\x98\\x81ð\\x9f\\x98\\x81ð\\x9f\\x98\\x81 ',\n",
       " '4 more days till vacation!   ð\\x9f\\x99\\x88â\\x9d¤ï¸\\x8fð\\x9f\\x98\\x8d',\n",
       " '  the secret of a happy marriage is all about finding other people less attractive: and those who repo... ',\n",
       " 'python27 and concurrency are not best friends,   all the code i have 2 restructure to get concurrency with celery #developers #python',\n",
       " '#womenareamazing we think so! #induoevents - - - -  #superwomen #follow #dowhatyoulove  â\\x80¦ ',\n",
       " 'hairy pussy redtube   hardcore tracks  ',\n",
       " 'let the season 4 binge begin ð\\x9f\\x92\\x86ð\\x9f\\x8f» #oitnb #myfavorite #season4   #weekendplans ',\n",
       " 'rest in peace ð\\x9f\\x92\\x94 #christinagrimmie   #loss #rip #missed #fan #foreverinourheas ',\n",
       " '\"a picture is woh a thousand words.\" #sundayrewind #hongkong #travel   #lady #lawyerâ\\x80¦ ',\n",
       " 'relax !!! ð\\x9f\\x8c¤ð\\x9f\\x8c¤ð\\x9f\\x8c¤ #ingers #followme #follow #follow4follow #beach #pool   #relax #enjoy #coupleâ\\x80¦ ',\n",
       " ' @user countdown has begun#family#freeevent#festival# enteainment #food#stalls ',\n",
       " ' #awesome beginner #gopro #mounts super   to use!!! ',\n",
       " \"dear istore  , please don't crash down due to heavy overload on 17-19 #booktime #muchlove     â\\x9d¤â\\x9d¤â\\x9d¤\",\n",
       " 'never underestimate the power of a good book, good wine, good food, and a great patio.   #summerevening #patioweather',\n",
       " 'istg this is the best cheese ta but dayum expensive ',\n",
       " 'my morning (office) routine will never be the same without my bff   #imy  ',\n",
       " '#model   i love u take with u all the time in urð\\x9f\\x93±!!! ð\\x9f\\x98\\x99ð\\x9f\\x98\\x8eð\\x9f\\x91\\x84ð\\x9f\\x91\\x85ð\\x9f\\x92¦ð\\x9f\\x92¦ð\\x9f\\x92¦  ',\n",
       " '#theshallows weak attempt to cash in on the jaws anniversary  ',\n",
       " '@user non stop election  i blame #cspan for hiding  for 8 years 2016 pittsburgh california ',\n",
       " 'weâ\\x80\\x99re extremely   to reveal the first #official #poster for #poalorigins [pa 2], coming this #summer. moâ\\x80¦ ',\n",
       " '16 minutes and counting.... #wwdc #wwdc2016  ',\n",
       " '@user @user he \"has to play ball\" now! the   state of our politics! it\\'s now all a facade, as we\\'ve lost principality!',\n",
       " \"#people aren't protesting #trump because a #republican won-they do so because trump has fuhered  &amp;â\\x80¦ \",\n",
       " \"it's a great day to just be nothing but happyð\\x9f\\x98\\x8að\\x9f\\x92\\x9eð\\x9f\\x99\\x8c  #blessed#thankful\",\n",
       " 'have a happy sunday everyone!!!â\\x9c\\x8cï¸\\x8fð\\x9f\\x92\\x96â\\x9c\\x8cð\\x9f\\x92\\x96   #sundaymorning #sunday #peace #love',\n",
       " \"i always help others. never myself. because other people matter and i clearly don't.   #quotes #latenights \",\n",
       " '  ! my bihday weekend ! even better ! xx ',\n",
       " 'stay strong ð\\x9f\\x92\\x8b #selflove #love #iloveme #quote #quotes #quoteoftheday   #happiness #life #wisdom #wordsofwisdom ',\n",
       " \"happy father's day..   #boys #father #sweet #love #memory @user \",\n",
       " \"aww yeah it's all good bing bong bing bong   \",\n",
       " '#life is most #impoant for #human #spirit #truth #love #give b   #spirituality #thinkbigsundaywithmarshað\\x9f\\x92\\x93ð\\x9f\\x99\\x8fð\\x9f\\x98\\x87 ',\n",
       " \"to the father of my babies, i love u. happiest of father's days!    #father via  \",\n",
       " \" @user current mood:   about @user 's web developer meet &amp; hire on 6/22.  \",\n",
       " \"you know you're getting old when you sta to get 'turned on' looking at poweools in b&amp;q  \",\n",
       " 're: 50 projects 2016---busy hands are happy hands!   ',\n",
       " ' @user bride: a woman with a fine prospect of happiness behind her. â\\x80\\x94ambrose bierce #wedding   #love ',\n",
       " '   #friday  xoxosamantha  via  ',\n",
       " '@user stop robbing innocent customers of their hard earned aiime which you guys have no idea on how dey managed to recharge... ',\n",
       " \"grab your bestie &amp; swing by for  hour ~ we've missed you.   #fun  #eatâ\\x80¦ \",\n",
       " ' is not an #opinion. racism is #degrading people based on race to justify #discrimination or open #violence against them. #stopracism',\n",
       " 'finally moving today ð\\x9f\\x98\\xadð\\x9f\\x99\\x8fð\\x9f\\x8f½ ',\n",
       " \" @user @user and @user i'm on my way..... can we say     #blogger #vloggerâ\\x80¦ \",\n",
       " '@user @user yay! fantastic   for #edinburgh',\n",
       " 'lemme find out i have to put on my boiler in the month of june.  ',\n",
       " 'my hea goes out to the families of those 50 people killed in the massacre in orlando.    ',\n",
       " 'pre @user gig drinks! ð\\x9f\\x98\\x8e  #passthecourvoisier ð\\x9f\\x8d¸@user ',\n",
       " 'so we rescued a pup... meet rexy ð\\x9f\\x90¶â\\x99¡ #rescuepup #rexy #pupsofsg #suicidegirls #beautiful #puppylove   ',\n",
       " 'these videos will get you excited for the futureâ\\x80¦  #tech #augmented   #future #mobile ',\n",
       " ' @user congrats ð\\x9f\\x98\\x84 ur wish come true working with @user ð\\x9f\\x98\\x8a superxcited for the songs ð\\x9f\\x98\\x84ð\\x9f\\x99\\x8câ\\x9d¤ð\\x9f\\x98\\x8d  ',\n",
       " 'we wish it were!   ',\n",
       " 'â\\x98\\x80ï¸\\x8f#hellosunday i hope you all have a #beautiful   #sunday :) #sundayfunday sunnday!!ð\\x9f\\x92\\x8b ',\n",
       " \"i once did that gif..did't listen to this song since ages..  \",\n",
       " ' â\\x86\\x9d #nzd/usd rises to 0.7040, eyeing gdt price index and fomc statement   #blog #silver #gold #forex',\n",
       " 'how true! home-food is considered a cheap-meal. impressions are made at restaurants!!!   ',\n",
       " \"happy bihday to one of the west's greatest!!  tupac shakur ð\\x9f\\x91\\x91ð\\x9f\\x8e¤   #bihday #rip #tupacâ\\x80¦ \",\n",
       " ' @user live your life....  ',\n",
       " '29hrs to goð\\x9f\\x98\\x89 #fl #motionposter to be revealed #mupparimanam feeling   #nervous ð\\x9f\\x98\\x80ð\\x9f\\x91\\x8dð\\x9f\\x8f»ð\\x9f\\x98\\x8a stay tuned ',\n",
       " '@user i had a little taste it was   for sure! ',\n",
       " 'appletstag #compleanno #toa #cake #family  bday #selfie #me #smile #girl  #summerâ\\x80¦ ',\n",
       " '#anime  #anime-a  -tree-friends #tags: #anime, #fana, pixiv, happy tree ... ',\n",
       " ' @user happy 2nd wedding anniversary to my amazing husband @user ð\\x9f\\x8d¾ð\\x9f\\x8e\\x89ð\\x9f\\x92\\x95ð\\x9f\\x91°ð\\x9f\\x8f¼ð\\x9f\\x8e© #memories #2years #lotstocome   #love ',\n",
       " 'after a slow sta, i had a productive day! getting back into a routine after a bout of fatigue and flareup is hard! #spoonieproblems  ',\n",
       " \"i love ramdan and fasting,i love the iftar's feeling and i love the way i feel during ramadan with praying and reading quran #blessed\",\n",
       " ' â\\x86\\x9d #eur/gbp subdued trading action around 0.7930   #blog #silver #gold #forex',\n",
       " '  ð\\x9f\\x98\\x8a with @user #ngitingtagumpay ',\n",
       " \"it's an unusual cloudy day. election day and picnic with friends!   sunday to everyone! ó¾\\x93\\x94ó¾\\x94\\x9b #welcomeludovica... \",\n",
       " '#cloudchaser   gorilla simulator: you need to do to adapt to the environment. the need to tear the city. mat ',\n",
       " 'christ is alive in you. #vlicobs #xoxo #love #grace   #amen #share #passion #church #lifeâ\\x80¦ ',\n",
       " \"  wants leak of udta punjab probed, suspects 'political ... #jobs #jobsearch #: #chandigarh: makers of udt... \",\n",
       " 'yesterday @ ozen ð\\x9f\\x99\\x83  #restaurant   #eatallyoucan ',\n",
       " \"i can already tell that next week's episode is gonna give me intense anxiety!!!! #nervous    #gameofthrones \",\n",
       " \"you've got nothing to say, so you assume that?! ahahahahahah \",\n",
       " \"i'm just an ordinary girl #intruduceyourself  !ð\\x9f\\x98\\x8að\\x9f\\x98\\x8a\",\n",
       " ' @user may lights triumph over darkness. may this ramadan bring peace, harmony and joy.   #ramadan! #ramadankareem ',\n",
       " '@user @user any1 else notice most of the \"suppoers\" r pageant girls w.years to internalize a female oppressive system? ',\n",
       " ' @user 4 reasons that optimists rule the world    #success #growth #balance #optimism ',\n",
       " \"i hate online applications because you don't even get your foot in the door before they tell you no, we don't need you.  \",\n",
       " 'i am thankful for flowers. #thankful #positive     ',\n",
       " \"to top off my crappy day w/me not signing papers for my house, @user pop up conce 4 blocks from work &amp; i didn't know. :(  \",\n",
       " 'beautiful (: i love living at the beach!!!! #beach #loveit   ',\n",
       " ' @user omg bitch ð\\x9f\\x98\\x82ð\\x9f\\x98\\x8dð\\x9f\\x98\\x8dð\\x9f\\x98\\x8d i knew you was gone do lil kim .. actually look like a music video  ',\n",
       " '#tgif   #ff to my #gamedev #indiedev #indiegamedev #squad! @user @user @user @user',\n",
       " '@user @user @user  man i even have a bunch of coupons too..... ',\n",
       " 'way to sta the day #goodmorning   ',\n",
       " 'lking forward 2 our watering holes, watchtowers,  foresses.. @user @user @user   ',\n",
       " '@user #allahsoil the next best seller book! #isis #islam #2016in4worlds #2016in4words #terrorists #gwot â\\x80¦ ',\n",
       " 'this a a fantastic rub for steak #yum #thespicesndteaexchange #dc   #healthyâ\\x80¦ ',\n",
       " '  #followme touch my tits -  ',\n",
       " 'feels like summer ð\\x9f\\x8c´ð\\x9f\\x8d\\x89ð\\x9f\\x91\\x99   #love #like #live #life #enjoy #healthy #sun #tan #bikini #summerâ\\x80¦ ',\n",
       " \"#teenageson reckons that he's gone 'beyond the call of duty' with my #fathersday prezzie    ð\\x9f\\x98\\x8d\",\n",
       " \"@user don't forget, @user - research shows that sexist men have psychological problems. #tuckercarlson \",\n",
       " 'nice! any specific pedagogical changes? ð\\x9f\\x98¬ ',\n",
       " '@user typical city fan  ',\n",
       " '\"no im not attracted to asian ppl bc im not asian\"  what if i tell you no im not attracted to u bc im not (inse race here) hoe   ',\n",
       " '@user awlrite  mol? jealous? better than being at cricket pitch all my life   #getalife',\n",
       " 'prayers go out to eddie and his family ',\n",
       " '#nothappy   my carer is finishing in one week :*(',\n",
       " '#closeencounters of the #fatkind #fatkid #dese #sick   #tired #maybemono ',\n",
       " '#gymmorgon #gym #morning #strength   #energy #training @ wingym ',\n",
       " 'glad it all arrived safely @user ! ',\n",
       " 'who defines ?: historically #oppressed or historic #oppressors/#privileged',\n",
       " 'are you really   or just pretending to be?  #truthseekers #empowerment #selfimprovement #healing #ihearadio',\n",
       " 'i finally found a way how to delete old tweets! you might find it useful as well:    #deletetweets',\n",
       " ' @user what a #view #oregon   #poland #usa #unitedstates   #holiday #dj #producer #houseâ\\x80¦ ',\n",
       " 'have you put in your #vote yet? if you havent, do it and #share so we can see what makes #you #smile. #poll   ',\n",
       " ' @user next chapter in life stas soon, looking at a house today with my fiancÃ© â\\x9d¤ï¸\\x8fð\\x9f\\x98\\x80ð\\x9f\\x8f\\xa0ð\\x9f\\x91\\x8dð\\x9f\\x8f»   ',\n",
       " ...]"
      ]
     },
     "execution_count": 51,
     "metadata": {},
     "output_type": "execute_result"
    }
   ],
   "source": [
    "sentences=data['tweet'].tolist()\n",
    "sentences"
   ]
  },
  {
   "cell_type": "code",
   "execution_count": 52,
   "metadata": {},
   "outputs": [
    {
     "data": {
      "text/plain": [
       "31962"
      ]
     },
     "execution_count": 52,
     "metadata": {},
     "output_type": "execute_result"
    }
   ],
   "source": [
    "len(sentences)"
   ]
  },
  {
   "cell_type": "code",
   "execution_count": 53,
   "metadata": {},
   "outputs": [],
   "source": [
    "# join everything in one string\n",
    "one_string=\" \".join(sentences)"
   ]
  },
  {
   "cell_type": "markdown",
   "metadata": {},
   "source": [
    "# use wordcloud to visualize all the words in the string. more frequent the words the bigger it is. most used word is user, love,smile,etc. all positive words makes sense as this is an unbalanced dataset with mostly positive tweets. "
   ]
  },
  {
   "cell_type": "code",
   "execution_count": 54,
   "metadata": {},
   "outputs": [
    {
     "name": "stdout",
     "output_type": "stream",
     "text": [
      "Collecting WordCloud\n",
      "  Downloading wordcloud-1.8.1-cp37-cp37m-win_amd64.whl (154 kB)\n",
      "Requirement already satisfied: numpy>=1.6.1 in c:\\users\\rohan\\anaconda3\\lib\\site-packages (from WordCloud) (1.18.1)\n",
      "Requirement already satisfied: matplotlib in c:\\users\\rohan\\anaconda3\\lib\\site-packages (from WordCloud) (3.1.3)\n",
      "Requirement already satisfied: pillow in c:\\users\\rohan\\anaconda3\\lib\\site-packages (from WordCloud) (7.0.0)\n",
      "Requirement already satisfied: cycler>=0.10 in c:\\users\\rohan\\anaconda3\\lib\\site-packages (from matplotlib->WordCloud) (0.10.0)\n",
      "Requirement already satisfied: kiwisolver>=1.0.1 in c:\\users\\rohan\\anaconda3\\lib\\site-packages (from matplotlib->WordCloud) (1.1.0)\n",
      "Requirement already satisfied: python-dateutil>=2.1 in c:\\users\\rohan\\anaconda3\\lib\\site-packages (from matplotlib->WordCloud) (2.8.1)\n",
      "Requirement already satisfied: pyparsing!=2.0.4,!=2.1.2,!=2.1.6,>=2.0.1 in c:\\users\\rohan\\anaconda3\\lib\\site-packages (from matplotlib->WordCloud) (2.4.6)\n",
      "Requirement already satisfied: six in c:\\users\\rohan\\anaconda3\\lib\\site-packages (from cycler>=0.10->matplotlib->WordCloud) (1.14.0)\n",
      "Requirement already satisfied: setuptools in c:\\users\\rohan\\anaconda3\\lib\\site-packages (from kiwisolver>=1.0.1->matplotlib->WordCloud) (45.2.0.post20200210)\n",
      "Installing collected packages: WordCloud\n",
      "Successfully installed WordCloud-1.8.1\n"
     ]
    },
    {
     "data": {
      "text/plain": [
       "<matplotlib.image.AxesImage at 0x2223f5a4e88>"
      ]
     },
     "execution_count": 54,
     "metadata": {},
     "output_type": "execute_result"
    },
    {
     "data": {
      "image/png": "[encoded data removed]",
      "text/plain": [
       "<Figure size 1440x1440 with 1 Axes>"
      ]
     },
     "metadata": {
      "needs_background": "light"
     },
     "output_type": "display_data"
    }
   ],
   "source": [
    "\n",
    "!pip install WordCloud\n",
    "from wordcloud import WordCloud\n",
    "\n",
    "plt.figure(figsize=(20,20))\n",
    "plt.imshow(WordCloud().generate(one_string))"
   ]
  },
  {
   "cell_type": "markdown",
   "metadata": {},
   "source": [
    "# doing the word cloud to visualize only the negative tweets"
   ]
  },
  {
   "cell_type": "code",
   "execution_count": null,
   "metadata": {},
   "outputs": [],
   "source": [
    "neg_sents=negative['tweet'].tolist()\n",
    "neg_sents\n"
   ]
  },
  {
   "cell_type": "code",
   "execution_count": 57,
   "metadata": {},
   "outputs": [],
   "source": [
    "# join everything in one string\n",
    "neg_string=\" \".join(neg_sents)"
   ]
  },
  {
   "cell_type": "code",
   "execution_count": 58,
   "metadata": {},
   "outputs": [
    {
     "data": {
      "text/plain": [
       "<matplotlib.image.AxesImage at 0x2223f0e0e48>"
      ]
     },
     "execution_count": 58,
     "metadata": {},
     "output_type": "execute_result"
    },
    {
     "data": {
      "image/png": "[encoded data removed]",
      "text/plain": [
       "<Figure size 1440x1440 with 1 Axes>"
      ]
     },
     "metadata": {
      "needs_background": "light"
     },
     "output_type": "display_data"
    }
   ],
   "source": [
    "# here we can see more hateful and abusive words\n",
    "plt.figure(figsize=(20,20))\n",
    "plt.imshow(WordCloud().generate(neg_string))"
   ]
  },
  {
   "cell_type": "markdown",
   "metadata": {},
   "source": [
    "# removing punctuations, stopwords and performing count vectorization on test data before proceeding to actual tweets."
   ]
  },
  {
   "cell_type": "code",
   "execution_count": 81,
   "metadata": {},
   "outputs": [
    {
     "data": {
      "text/plain": [
       "'!\"#$%&\\'()*+,-./:;<=>?@[\\\\]^_`{|}~'"
      ]
     },
     "execution_count": 81,
     "metadata": {},
     "output_type": "execute_result"
    }
   ],
   "source": [
    "import string\n",
    "string.punctuation\n"
   ]
  },
  {
   "cell_type": "code",
   "execution_count": 82,
   "metadata": {},
   "outputs": [
    {
     "data": {
      "text/plain": [
       "['G',\n",
       " 'o',\n",
       " 'o',\n",
       " 'd',\n",
       " ' ',\n",
       " 'm',\n",
       " 'o',\n",
       " 'r',\n",
       " 'n',\n",
       " 'i',\n",
       " 'n',\n",
       " 'g',\n",
       " ' ',\n",
       " 'b',\n",
       " 'e',\n",
       " 'a',\n",
       " 'u',\n",
       " 't',\n",
       " 'i',\n",
       " 'f',\n",
       " 'u',\n",
       " 'l',\n",
       " ' ',\n",
       " 'p',\n",
       " 'e',\n",
       " 'o',\n",
       " 'p',\n",
       " 'l',\n",
       " 'e',\n",
       " ' ',\n",
       " ' ',\n",
       " 'I',\n",
       " ' ',\n",
       " 'a',\n",
       " 'm',\n",
       " ' ',\n",
       " 'h',\n",
       " 'a',\n",
       " 'v',\n",
       " 'i',\n",
       " 'n',\n",
       " 'g',\n",
       " ' ',\n",
       " 'f',\n",
       " 'u',\n",
       " 'n',\n",
       " ' ',\n",
       " 'l',\n",
       " 'e',\n",
       " 'a',\n",
       " 'r',\n",
       " 'n',\n",
       " 'i',\n",
       " 'n',\n",
       " 'g',\n",
       " ' ',\n",
       " 'M',\n",
       " 'a',\n",
       " 'c',\n",
       " 'h',\n",
       " 'i',\n",
       " 'n',\n",
       " 'e',\n",
       " ' ',\n",
       " 'l',\n",
       " 'e',\n",
       " 'a',\n",
       " 'r',\n",
       " 'n',\n",
       " 'i',\n",
       " 'n',\n",
       " 'g',\n",
       " ' ',\n",
       " 'a',\n",
       " 'n',\n",
       " 'd',\n",
       " ' ',\n",
       " 'A',\n",
       " 'I']"
      ]
     },
     "execution_count": 82,
     "metadata": {},
     "output_type": "execute_result"
    }
   ],
   "source": [
    "Test = 'Good morning beautiful people :)... I am having fun learning Machine learning and AI!!'\n",
    "test_rem=[char for char in Test if char not in string.punctuation]\n",
    "test_rem"
   ]
  },
  {
   "cell_type": "code",
   "execution_count": 83,
   "metadata": {},
   "outputs": [
    {
     "data": {
      "text/plain": [
       "'Good morning beautiful people  I am having fun learning Machine learning and AI'"
      ]
     },
     "execution_count": 83,
     "metadata": {},
     "output_type": "execute_result"
    }
   ],
   "source": [
    "test_rem_join=''.join(test_rem)\n",
    "test_rem_join"
   ]
  },
  {
   "cell_type": "code",
   "execution_count": 84,
   "metadata": {},
   "outputs": [
    {
     "name": "stderr",
     "output_type": "stream",
     "text": [
      "[nltk_data] Downloading package stopwords to\n",
      "[nltk_data]     C:\\Users\\Rohan\\AppData\\Roaming\\nltk_data...\n",
      "[nltk_data]   Package stopwords is already up-to-date!\n"
     ]
    },
    {
     "data": {
      "text/plain": [
       "True"
      ]
     },
     "execution_count": 84,
     "metadata": {},
     "output_type": "execute_result"
    }
   ],
   "source": [
    "import nltk # natural language toolkit\n",
    "nltk.download('stopwords')\n",
    "# to download all the stopwords, words like and, the,etc unimporttant words which do not effect the sentiment of the tweet at all."
   ]
  },
  {
   "cell_type": "code",
   "execution_count": 85,
   "metadata": {},
   "outputs": [
    {
     "data": {
      "text/plain": [
       "['i',\n",
       " 'me',\n",
       " 'my',\n",
       " 'myself',\n",
       " 'we',\n",
       " 'our',\n",
       " 'ours',\n",
       " 'ourselves',\n",
       " 'you',\n",
       " \"you're\",\n",
       " \"you've\",\n",
       " \"you'll\",\n",
       " \"you'd\",\n",
       " 'your',\n",
       " 'yours',\n",
       " 'yourself',\n",
       " 'yourselves',\n",
       " 'he',\n",
       " 'him',\n",
       " 'his',\n",
       " 'himself',\n",
       " 'she',\n",
       " \"she's\",\n",
       " 'her',\n",
       " 'hers',\n",
       " 'herself',\n",
       " 'it',\n",
       " \"it's\",\n",
       " 'its',\n",
       " 'itself',\n",
       " 'they',\n",
       " 'them',\n",
       " 'their',\n",
       " 'theirs',\n",
       " 'themselves',\n",
       " 'what',\n",
       " 'which',\n",
       " 'who',\n",
       " 'whom',\n",
       " 'this',\n",
       " 'that',\n",
       " \"that'll\",\n",
       " 'these',\n",
       " 'those',\n",
       " 'am',\n",
       " 'is',\n",
       " 'are',\n",
       " 'was',\n",
       " 'were',\n",
       " 'be',\n",
       " 'been',\n",
       " 'being',\n",
       " 'have',\n",
       " 'has',\n",
       " 'had',\n",
       " 'having',\n",
       " 'do',\n",
       " 'does',\n",
       " 'did',\n",
       " 'doing',\n",
       " 'a',\n",
       " 'an',\n",
       " 'the',\n",
       " 'and',\n",
       " 'but',\n",
       " 'if',\n",
       " 'or',\n",
       " 'because',\n",
       " 'as',\n",
       " 'until',\n",
       " 'while',\n",
       " 'of',\n",
       " 'at',\n",
       " 'by',\n",
       " 'for',\n",
       " 'with',\n",
       " 'about',\n",
       " 'against',\n",
       " 'between',\n",
       " 'into',\n",
       " 'through',\n",
       " 'during',\n",
       " 'before',\n",
       " 'after',\n",
       " 'above',\n",
       " 'below',\n",
       " 'to',\n",
       " 'from',\n",
       " 'up',\n",
       " 'down',\n",
       " 'in',\n",
       " 'out',\n",
       " 'on',\n",
       " 'off',\n",
       " 'over',\n",
       " 'under',\n",
       " 'again',\n",
       " 'further',\n",
       " 'then',\n",
       " 'once',\n",
       " 'here',\n",
       " 'there',\n",
       " 'when',\n",
       " 'where',\n",
       " 'why',\n",
       " 'how',\n",
       " 'all',\n",
       " 'any',\n",
       " 'both',\n",
       " 'each',\n",
       " 'few',\n",
       " 'more',\n",
       " 'most',\n",
       " 'other',\n",
       " 'some',\n",
       " 'such',\n",
       " 'no',\n",
       " 'nor',\n",
       " 'not',\n",
       " 'only',\n",
       " 'own',\n",
       " 'same',\n",
       " 'so',\n",
       " 'than',\n",
       " 'too',\n",
       " 'very',\n",
       " 's',\n",
       " 't',\n",
       " 'can',\n",
       " 'will',\n",
       " 'just',\n",
       " 'don',\n",
       " \"don't\",\n",
       " 'should',\n",
       " \"should've\",\n",
       " 'now',\n",
       " 'd',\n",
       " 'll',\n",
       " 'm',\n",
       " 'o',\n",
       " 're',\n",
       " 've',\n",
       " 'y',\n",
       " 'ain',\n",
       " 'aren',\n",
       " \"aren't\",\n",
       " 'couldn',\n",
       " \"couldn't\",\n",
       " 'didn',\n",
       " \"didn't\",\n",
       " 'doesn',\n",
       " \"doesn't\",\n",
       " 'hadn',\n",
       " \"hadn't\",\n",
       " 'hasn',\n",
       " \"hasn't\",\n",
       " 'haven',\n",
       " \"haven't\",\n",
       " 'isn',\n",
       " \"isn't\",\n",
       " 'ma',\n",
       " 'mightn',\n",
       " \"mightn't\",\n",
       " 'mustn',\n",
       " \"mustn't\",\n",
       " 'needn',\n",
       " \"needn't\",\n",
       " 'shan',\n",
       " \"shan't\",\n",
       " 'shouldn',\n",
       " \"shouldn't\",\n",
       " 'wasn',\n",
       " \"wasn't\",\n",
       " 'weren',\n",
       " \"weren't\",\n",
       " 'won',\n",
       " \"won't\",\n",
       " 'wouldn',\n",
       " \"wouldn't\"]"
      ]
     },
     "execution_count": 85,
     "metadata": {},
     "output_type": "execute_result"
    }
   ],
   "source": [
    "# to see all the english stopwords\n",
    "from nltk.corpus import stopwords\n",
    "stopwords.words('english')"
   ]
  },
  {
   "cell_type": "code",
   "execution_count": 86,
   "metadata": {},
   "outputs": [
    {
     "data": {
      "text/plain": [
       "['Good',\n",
       " 'morning',\n",
       " 'beautiful',\n",
       " 'people',\n",
       " 'fun',\n",
       " 'learning',\n",
       " 'Machine',\n",
       " 'learning',\n",
       " 'AI']"
      ]
     },
     "execution_count": 86,
     "metadata": {},
     "output_type": "execute_result"
    }
   ],
   "source": [
    "# remove stopwords from test_rem_join string, split by default on spaces\n",
    "test_rem_join_clean=[word for word in test_rem_join.split() if word.lower() not in stopwords.words('english') ]\n",
    "test_rem_join_clean"
   ]
  },
  {
   "cell_type": "code",
   "execution_count": 89,
   "metadata": {},
   "outputs": [],
   "source": [
    "# testing on another sample data\n",
    "mini_challenge = 'Here is a mini challenge, that will teach you how to remove stopwords and punctuations!'"
   ]
  },
  {
   "cell_type": "code",
   "execution_count": 90,
   "metadata": {},
   "outputs": [
    {
     "data": {
      "text/plain": [
       "['mini', 'challenge', 'teach', 'remove', 'stopwords', 'punctuations']"
      ]
     },
     "execution_count": 90,
     "metadata": {},
     "output_type": "execute_result"
    }
   ],
   "source": [
    "mini_challenge_rem=[char for char in mini_challenge if char not in string.punctuation]\n",
    "mini_challenge_join=''.join(mini_challenge_rem)\n",
    "mini_challenge_clean=[word for word in mini_challenge_join.split() if word.lower() not in stopwords.words('english') ]\n",
    "mini_challenge_clean"
   ]
  },
  {
   "cell_type": "code",
   "execution_count": 91,
   "metadata": {},
   "outputs": [
    {
     "name": "stdout",
     "output_type": "stream",
     "text": [
      "['and', 'document', 'first', 'is', 'one', 'paper', 'second', 'the', 'third', 'this']\n"
     ]
    }
   ],
   "source": [
    "# count vectorizer\n",
    "from sklearn.feature_extraction.text import CountVectorizer\n",
    "sample_data = ['This is the first paper.','This document is the second paper.','And this is the third one.','Is this the first paper?']\n",
    "vectorizer = CountVectorizer()\n",
    "X = vectorizer.fit_transform(sample_data)\n",
    "print(vectorizer.get_feature_names())\n"
   ]
  },
  {
   "cell_type": "code",
   "execution_count": 92,
   "metadata": {},
   "outputs": [
    {
     "name": "stdout",
     "output_type": "stream",
     "text": [
      "[[0 0 1 1 0 1 0 1 0 1]\n",
      " [0 1 0 1 0 1 1 1 0 1]\n",
      " [1 0 0 1 1 0 0 1 1 1]\n",
      " [0 0 1 1 0 1 0 1 0 1]]\n"
     ]
    }
   ],
   "source": [
    "print(X.toarray())"
   ]
  },
  {
   "cell_type": "markdown",
   "metadata": {},
   "source": [
    "# count vectorization basically coverts text into numbers. you right the unique list of words in the sample on top and depending on the frequency of the words in each row u put that no. refer to recording."
   ]
  },
  {
   "cell_type": "markdown",
   "metadata": {},
   "source": [
    "# cleaning the tweets by removing punctuations, stopwords."
   ]
  },
  {
   "cell_type": "code",
   "execution_count": 59,
   "metadata": {},
   "outputs": [
    {
     "data": {
      "text/plain": [
       "'!\"#$%&\\'()*+,-./:;<=>?@[\\\\]^_`{|}~'"
      ]
     },
     "execution_count": 59,
     "metadata": {},
     "output_type": "execute_result"
    }
   ],
   "source": [
    "# to see all the punctuations we have to remove\n",
    "import string\n",
    "string.punctuation"
   ]
  },
  {
   "cell_type": "code",
   "execution_count": 60,
   "metadata": {},
   "outputs": [
    {
     "name": "stderr",
     "output_type": "stream",
     "text": [
      "[nltk_data] Downloading package stopwords to\n",
      "[nltk_data]     C:\\Users\\Rohan\\AppData\\Roaming\\nltk_data...\n",
      "[nltk_data]   Unzipping corpora\\stopwords.zip.\n"
     ]
    },
    {
     "data": {
      "text/plain": [
       "True"
      ]
     },
     "execution_count": 60,
     "metadata": {},
     "output_type": "execute_result"
    }
   ],
   "source": [
    "import nltk # natural language toolkit\n",
    "nltk.download('stopwords')\n",
    "# to download all the stopwords, words like and, the,etc unimporttant words which do not effect the sentiment of the tweet at all."
   ]
  },
  {
   "cell_type": "code",
   "execution_count": 61,
   "metadata": {},
   "outputs": [
    {
     "data": {
      "text/plain": [
       "['i',\n",
       " 'me',\n",
       " 'my',\n",
       " 'myself',\n",
       " 'we',\n",
       " 'our',\n",
       " 'ours',\n",
       " 'ourselves',\n",
       " 'you',\n",
       " \"you're\",\n",
       " \"you've\",\n",
       " \"you'll\",\n",
       " \"you'd\",\n",
       " 'your',\n",
       " 'yours',\n",
       " 'yourself',\n",
       " 'yourselves',\n",
       " 'he',\n",
       " 'him',\n",
       " 'his',\n",
       " 'himself',\n",
       " 'she',\n",
       " \"she's\",\n",
       " 'her',\n",
       " 'hers',\n",
       " 'herself',\n",
       " 'it',\n",
       " \"it's\",\n",
       " 'its',\n",
       " 'itself',\n",
       " 'they',\n",
       " 'them',\n",
       " 'their',\n",
       " 'theirs',\n",
       " 'themselves',\n",
       " 'what',\n",
       " 'which',\n",
       " 'who',\n",
       " 'whom',\n",
       " 'this',\n",
       " 'that',\n",
       " \"that'll\",\n",
       " 'these',\n",
       " 'those',\n",
       " 'am',\n",
       " 'is',\n",
       " 'are',\n",
       " 'was',\n",
       " 'were',\n",
       " 'be',\n",
       " 'been',\n",
       " 'being',\n",
       " 'have',\n",
       " 'has',\n",
       " 'had',\n",
       " 'having',\n",
       " 'do',\n",
       " 'does',\n",
       " 'did',\n",
       " 'doing',\n",
       " 'a',\n",
       " 'an',\n",
       " 'the',\n",
       " 'and',\n",
       " 'but',\n",
       " 'if',\n",
       " 'or',\n",
       " 'because',\n",
       " 'as',\n",
       " 'until',\n",
       " 'while',\n",
       " 'of',\n",
       " 'at',\n",
       " 'by',\n",
       " 'for',\n",
       " 'with',\n",
       " 'about',\n",
       " 'against',\n",
       " 'between',\n",
       " 'into',\n",
       " 'through',\n",
       " 'during',\n",
       " 'before',\n",
       " 'after',\n",
       " 'above',\n",
       " 'below',\n",
       " 'to',\n",
       " 'from',\n",
       " 'up',\n",
       " 'down',\n",
       " 'in',\n",
       " 'out',\n",
       " 'on',\n",
       " 'off',\n",
       " 'over',\n",
       " 'under',\n",
       " 'again',\n",
       " 'further',\n",
       " 'then',\n",
       " 'once',\n",
       " 'here',\n",
       " 'there',\n",
       " 'when',\n",
       " 'where',\n",
       " 'why',\n",
       " 'how',\n",
       " 'all',\n",
       " 'any',\n",
       " 'both',\n",
       " 'each',\n",
       " 'few',\n",
       " 'more',\n",
       " 'most',\n",
       " 'other',\n",
       " 'some',\n",
       " 'such',\n",
       " 'no',\n",
       " 'nor',\n",
       " 'not',\n",
       " 'only',\n",
       " 'own',\n",
       " 'same',\n",
       " 'so',\n",
       " 'than',\n",
       " 'too',\n",
       " 'very',\n",
       " 's',\n",
       " 't',\n",
       " 'can',\n",
       " 'will',\n",
       " 'just',\n",
       " 'don',\n",
       " \"don't\",\n",
       " 'should',\n",
       " \"should've\",\n",
       " 'now',\n",
       " 'd',\n",
       " 'll',\n",
       " 'm',\n",
       " 'o',\n",
       " 're',\n",
       " 've',\n",
       " 'y',\n",
       " 'ain',\n",
       " 'aren',\n",
       " \"aren't\",\n",
       " 'couldn',\n",
       " \"couldn't\",\n",
       " 'didn',\n",
       " \"didn't\",\n",
       " 'doesn',\n",
       " \"doesn't\",\n",
       " 'hadn',\n",
       " \"hadn't\",\n",
       " 'hasn',\n",
       " \"hasn't\",\n",
       " 'haven',\n",
       " \"haven't\",\n",
       " 'isn',\n",
       " \"isn't\",\n",
       " 'ma',\n",
       " 'mightn',\n",
       " \"mightn't\",\n",
       " 'mustn',\n",
       " \"mustn't\",\n",
       " 'needn',\n",
       " \"needn't\",\n",
       " 'shan',\n",
       " \"shan't\",\n",
       " 'shouldn',\n",
       " \"shouldn't\",\n",
       " 'wasn',\n",
       " \"wasn't\",\n",
       " 'weren',\n",
       " \"weren't\",\n",
       " 'won',\n",
       " \"won't\",\n",
       " 'wouldn',\n",
       " \"wouldn't\"]"
      ]
     },
     "execution_count": 61,
     "metadata": {},
     "output_type": "execute_result"
    }
   ],
   "source": [
    "# to see all the english stopwords\n",
    "from nltk.corpus import stopwords\n",
    "stopwords.words('english')"
   ]
  },
  {
   "cell_type": "code",
   "execution_count": 62,
   "metadata": {},
   "outputs": [],
   "source": [
    "# cleaning tweets function, remove stopwords, add char if that char is not in string.punctuation similar for stopwords\n",
    "def tweet_cleaning(tweet):\n",
    "    punc_removed=[char for char in tweet if char not in string.punctuation]\n",
    "    punc_removed_join=''.join(punc_removed)\n",
    "    punc_removed_join_clean=[word for word in punc_removed_join.split() if word.lower() not in stopwords.words('english')]\n",
    "    return punc_removed_join_clean\n",
    "    \n",
    "    \n",
    "    "
   ]
  },
  {
   "cell_type": "code",
   "execution_count": 63,
   "metadata": {},
   "outputs": [],
   "source": [
    "# calling function and passing all the tweets\n",
    "data['Cleaned Tweets']=data['tweet'].apply(tweet_cleaning)"
   ]
  },
  {
   "cell_type": "code",
   "execution_count": 64,
   "metadata": {},
   "outputs": [
    {
     "data": {
      "text/html": [
       "<div>\n",
       "<style scoped>\n",
       "    .dataframe tbody tr th:only-of-type {\n",
       "        vertical-align: middle;\n",
       "    }\n",
       "\n",
       "    .dataframe tbody tr th {\n",
       "        vertical-align: top;\n",
       "    }\n",
       "\n",
       "    .dataframe thead th {\n",
       "        text-align: right;\n",
       "    }\n",
       "</style>\n",
       "<table border=\"1\" class=\"dataframe\">\n",
       "  <thead>\n",
       "    <tr style=\"text-align: right;\">\n",
       "      <th></th>\n",
       "      <th>label</th>\n",
       "      <th>tweet</th>\n",
       "      <th>length</th>\n",
       "      <th>Cleaned Tweets</th>\n",
       "    </tr>\n",
       "  </thead>\n",
       "  <tbody>\n",
       "    <tr>\n",
       "      <th>0</th>\n",
       "      <td>0</td>\n",
       "      <td>@user when a father is dysfunctional and is s...</td>\n",
       "      <td>102</td>\n",
       "      <td>[user, father, dysfunctional, selfish, drags, ...</td>\n",
       "    </tr>\n",
       "    <tr>\n",
       "      <th>1</th>\n",
       "      <td>0</td>\n",
       "      <td>@user @user thanks for #lyft credit i can't us...</td>\n",
       "      <td>122</td>\n",
       "      <td>[user, user, thanks, lyft, credit, cant, use, ...</td>\n",
       "    </tr>\n",
       "    <tr>\n",
       "      <th>2</th>\n",
       "      <td>0</td>\n",
       "      <td>bihday your majesty</td>\n",
       "      <td>21</td>\n",
       "      <td>[bihday, majesty]</td>\n",
       "    </tr>\n",
       "    <tr>\n",
       "      <th>3</th>\n",
       "      <td>0</td>\n",
       "      <td>#model   i love u take with u all the time in ...</td>\n",
       "      <td>86</td>\n",
       "      <td>[model, love, u, take, u, time, urð±, ðð...</td>\n",
       "    </tr>\n",
       "    <tr>\n",
       "      <th>4</th>\n",
       "      <td>0</td>\n",
       "      <td>factsguide: society now    #motivation</td>\n",
       "      <td>39</td>\n",
       "      <td>[factsguide, society, motivation]</td>\n",
       "    </tr>\n",
       "  </tbody>\n",
       "</table>\n",
       "</div>"
      ],
      "text/plain": [
       "   label                                              tweet  length  \\\n",
       "0      0   @user when a father is dysfunctional and is s...     102   \n",
       "1      0  @user @user thanks for #lyft credit i can't us...     122   \n",
       "2      0                                bihday your majesty      21   \n",
       "3      0  #model   i love u take with u all the time in ...      86   \n",
       "4      0             factsguide: society now    #motivation      39   \n",
       "\n",
       "                                      Cleaned Tweets  \n",
       "0  [user, father, dysfunctional, selfish, drags, ...  \n",
       "1  [user, user, thanks, lyft, credit, cant, use, ...  \n",
       "2                                  [bihday, majesty]  \n",
       "3  [model, love, u, take, u, time, urð±, ðð...  \n",
       "4                  [factsguide, society, motivation]  "
      ]
     },
     "execution_count": 64,
     "metadata": {},
     "output_type": "execute_result"
    }
   ],
   "source": [
    "data.head()"
   ]
  },
  {
   "cell_type": "code",
   "execution_count": 66,
   "metadata": {},
   "outputs": [
    {
     "name": "stdout",
     "output_type": "stream",
     "text": [
      "['22', 'huge', 'fan', 'fare', 'big', 'talking', 'leave', 'chaos', 'pay', 'disputes', 'get', 'allshowandnogo']\n"
     ]
    }
   ],
   "source": [
    "#comparing cleaned tweets and initial tweets\n",
    "print(data['Cleaned Tweets'][5])"
   ]
  },
  {
   "cell_type": "code",
   "execution_count": 67,
   "metadata": {},
   "outputs": [
    {
     "name": "stdout",
     "output_type": "stream",
     "text": [
      "[2/2] huge fan fare and big talking before they leave. chaos and pay disputes when they get there. #allshowandnogo  \n"
     ]
    }
   ],
   "source": [
    "print(data['tweet'][5])"
   ]
  },
  {
   "cell_type": "code",
   "execution_count": 69,
   "metadata": {},
   "outputs": [],
   "source": [
    "# perform count vectorization and add add analyser as a pre-processing step to clean data again using tweet_cleaning func.\n",
    "# thus we pass the original tweets again\n",
    "from sklearn.feature_extraction.text import CountVectorizer\n",
    "vectorizer= CountVectorizer(analyzer = tweet_cleaning)\n",
    "tweets_countvectorizer= CountVectorizer(analyzer = tweet_cleaning, dtype='uint8').fit_transform(data['tweet']).toarray()"
   ]
  },
  {
   "cell_type": "code",
   "execution_count": 70,
   "metadata": {},
   "outputs": [
    {
     "data": {
      "text/plain": [
       "(31962, 47386)"
      ]
     },
     "execution_count": 70,
     "metadata": {},
     "output_type": "execute_result"
    }
   ],
   "source": [
    "# count vect matrix has 31962 tweets or rows and 47386 unique words\n",
    "tweets_countvectorizer.shape"
   ]
  },
  {
   "cell_type": "code",
   "execution_count": 71,
   "metadata": {},
   "outputs": [],
   "source": [
    "X=tweets_countvectorizer"
   ]
  },
  {
   "cell_type": "code",
   "execution_count": 72,
   "metadata": {},
   "outputs": [],
   "source": [
    "y=data['label']"
   ]
  },
  {
   "cell_type": "code",
   "execution_count": 73,
   "metadata": {},
   "outputs": [],
   "source": [
    "from sklearn.model_selection import train_test_split\n",
    "X_train, X_test, y_train, y_test= train_test_split(X,y,test_size=0.2)"
   ]
  },
  {
   "cell_type": "code",
   "execution_count": 74,
   "metadata": {},
   "outputs": [
    {
     "data": {
      "text/plain": [
       "MultinomialNB(alpha=1.0, class_prior=None, fit_prior=True)"
      ]
     },
     "execution_count": 74,
     "metadata": {},
     "output_type": "execute_result"
    }
   ],
   "source": [
    "# training the data using naive bayes algorithm\n",
    "from sklearn.naive_bayes import MultinomialNB\n",
    "NB_classifier = MultinomialNB()\n",
    "NB_classifier.fit(X_train, y_train)\n"
   ]
  },
  {
   "cell_type": "code",
   "execution_count": 75,
   "metadata": {},
   "outputs": [],
   "source": [
    "from sklearn.metrics import classification_report, confusion_matrix"
   ]
  },
  {
   "cell_type": "code",
   "execution_count": 76,
   "metadata": {},
   "outputs": [
    {
     "data": {
      "text/plain": [
       "<matplotlib.axes._subplots.AxesSubplot at 0x2224535ff48>"
      ]
     },
     "execution_count": 76,
     "metadata": {},
     "output_type": "execute_result"
    },
    {
     "data": {
      "image/png": "[encoded data removed]",
      "text/plain": [
       "<Figure size 432x288 with 2 Axes>"
      ]
     },
     "metadata": {
      "needs_background": "light"
     },
     "output_type": "display_data"
    }
   ],
   "source": [
    "# Predicting the Test set results using our algo and compare with actual label values\n",
    "# passing x_test values to predict y_test\n",
    "y_predict_test = NB_classifier.predict(X_test)\n",
    "# plotting a matrix with y_test(actual results, x-axis) and y_predict_test(ml predicted results, y-axis)\n",
    "cm = confusion_matrix(y_test, y_predict_test)\n",
    "sns.heatmap(cm, annot=True)\n",
    "# confusion matrix top left indicates 5700 tweets identified as positive correctly\n",
    "# top right indicates 180 tweets identified as positive incorrectly(false positive, they are actually -ve)\n",
    "# bottom left indicates 210 tweets identified as negative incorrectly(false negative, they are actually +ve)\n",
    "# bottom right indicates 260 tweets identified as negative correctly"
   ]
  },
  {
   "cell_type": "code",
   "execution_count": 77,
   "metadata": {},
   "outputs": [
    {
     "name": "stdout",
     "output_type": "stream",
     "text": [
      "              precision    recall  f1-score   support\n",
      "\n",
      "           0       0.97      0.97      0.97      5923\n",
      "           1       0.59      0.56      0.58       470\n",
      "\n",
      "    accuracy                           0.94      6393\n",
      "   macro avg       0.78      0.77      0.77      6393\n",
      "weighted avg       0.94      0.94      0.94      6393\n",
      "\n"
     ]
    }
   ],
   "source": [
    "# dataset is unbalanced with way more positive tweets, therefore accuracy will be biased\n",
    "# can sample the dataset accordingly to reduce this imbalance and also use better ml algorithms\n",
    "print(classification_report(y_test, y_predict_test))"
   ]
  },
  {
   "cell_type": "code",
   "execution_count": null,
   "metadata": {},
   "outputs": [],
   "source": []
  }
 ],
 "metadata": {
  "kernelspec": {
   "display_name": "Python 3",
   "language": "python",
   "name": "python3"
  },
  "language_info": {
   "codemirror_mode": {
    "name": "ipython",
    "version": 3
   },
   "file_extension": ".py",
   "mimetype": "text/x-python",
   "name": "python",
   "nbconvert_exporter": "python",
   "pygments_lexer": "ipython3",
   "version": "3.7.6"
  }
 },
 "nbformat": 4,
 "nbformat_minor": 4
}
